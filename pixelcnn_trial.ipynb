{
 "cells": [
  {
   "cell_type": "code",
   "execution_count": 1,
   "id": "72008c57",
   "metadata": {},
   "outputs": [],
   "source": [
    "#Load data and plot\n",
    "DATASET_DIR = \"/home/erdem/dataset/patches_urine_32_scaled\"\n",
    "CATEGORIES_ALL = [\"Artifact\", \"BC\", \"cCry\", \"Dirt\", \"hCast\", \"LD\", \"nhCast\", \"nsEC\", \"RBC\", \"sCry\", \"sEC\", \"uCry\", \"Unclassified\", \"WBC\"]\n",
    "CATEGORIES_INLIER = [\"BC\", \"cCry\", \"hCast\", \"nhCast\", \"nsEC\", \"RBC\", \"sCry\", \"sEC\", \"uCry\", \"WBC\"]\n",
    "CATEGORIES_OUTLIER = [\"Artifact\", \"Dirt\", \"LD\"]"
   ]
  },
  {
   "cell_type": "code",
   "execution_count": 2,
   "id": "7d299e44",
   "metadata": {},
   "outputs": [
    {
     "name": "stdout",
     "output_type": "stream",
     "text": [
      "Num GPUs Available:  1\n"
     ]
    }
   ],
   "source": [
    "import os\n",
    "import cv2\n",
    "import logging\n",
    "import numpy as np\n",
    "import methods\n",
    "import torch as th\n",
    "from skimage.util import random_noise\n",
    "from pathlib import Path\n",
    "import matplotlib.pyplot as plt\n",
    "from tensorflow.keras import layers\n",
    "from tensorflow import keras\n",
    "import seaborn as sns\n",
    "import pandas as pd\n",
    "from ood_metrics import calc_metrics, plot_roc, plot_pr, plot_barcode\n",
    "import tensorflow as tf\n",
    "tf.keras.backend.clear_session()\n",
    "from tensorflow.keras.layers import Conv2D, Conv2DTranspose, Dense, Layer, Reshape, InputLayer, Flatten\n",
    "from tqdm import tqdm\n",
    "import albumentations as A\n",
    "\n",
    "from functools import partial\n",
    "from sklearn.metrics import confusion_matrix\n",
    "from sklearn.metrics import accuracy_score, f1_score, precision_score, recall_score\n",
    "import tensorflow as tf\n",
    "\n",
    "from alibi_detect.od import LLR\n",
    "from alibi_detect.models.tensorflow import PixelCNN\n",
    "from alibi_detect.utils.fetching import fetch_detector\n",
    "from alibi_detect.utils.saving import save_detector, load_detector\n",
    "from alibi_detect.utils.tensorflow.prediction import predict_batch\n",
    "from alibi_detect.utils.visualize import plot_roc, plot_instance_score, plot_feature_outlier_image\n",
    "\n",
    "logger = tf.get_logger()\n",
    "logger.setLevel(logging.ERROR)\n",
    "print(\"Num GPUs Available: \", len(tf.config.list_physical_devices('GPU')))\n",
    "gpu_options = tf.compat.v1.GPUOptions(per_process_gpu_memory_fraction=0.1)\n",
    "\n",
    "sess = tf.compat.v1.Session(config=tf.compat.v1.ConfigProto(gpu_options=gpu_options))"
   ]
  },
  {
   "cell_type": "code",
   "execution_count": 3,
   "id": "869994a2",
   "metadata": {},
   "outputs": [],
   "source": [
    "transform = A.Compose([\n",
    "    A.ShiftScaleRotate(shift_limit=0, rotate_limit=90, scale_limit=[0,0.3], always_apply=True, p=1)\n",
    "])\n",
    "\n",
    "inlier_names = [\"cCry\", \"sCry\", \"uCry\", \"hCast\", \"nhCast\", \"nsEC\", \"sEC\", \"WBC\", \"RBC\", \"Artifact\", \"Dirt\", \"LD\"]\n",
    "dim = (32, 32)\n",
    "height, width = dim\n",
    "transformed_cCry = methods.getTransformedImages(\"cCry\", dim, transform, 200)\n",
    "transformed_sCry = methods.getTransformedImages(\"sCry\", dim, transform, 40)\n",
    "transformed_uCry = methods.getTransformedImages(\"uCry\", dim, transform, 40)\n",
    "transformed_hCast = methods.getTransformedImages(\"hCast\", dim, transform, 200)\n",
    "transformed_nhCast = methods.getTransformedImages(\"nhCast\", dim, transform, 200)\n",
    "transformed_nsEC = methods.getTransformedImages(\"nsEC\", dim, transform, 20)\n",
    "transformed_sEC = methods.getTransformedImages(\"sEC\", dim, transform, 20)\n",
    "transformed_WBC = methods.getTransformedImages(\"WBC\", dim, transform, 10)\n",
    "transformed_RBC = methods.getTransformedImages(\"RBC\", dim, transform, 10)\n",
    "transformed_BC = methods.getTransformedImages(\"BC\", dim, transform, 4)\n",
    "\n",
    "transformed_all = np.concatenate((transformed_cCry, transformed_sCry, transformed_uCry, transformed_hCast, \n",
    "                                 transformed_nhCast, transformed_nsEC, transformed_sEC, transformed_WBC,\n",
    "                                 transformed_RBC, transformed_BC))\n",
    "\n",
    "inlier_names = [\"cCry\", \"sCry\", \"uCry\", \"hCast\", \"nhCast\", \"nsEC\", \"sEC\", \"WBC\", \"RBC\", \"Artifact\", \"Dirt\", \"LD\"]\n",
    "testImages_cCry = methods.getTestRawImages(\"cCry\", (32,32))\n",
    "testImages_sCry = methods.getTestRawImages(\"sCry\", (32,32))\n",
    "testImages_uCry = methods.getTestRawImages(\"uCry\", (32,32))\n",
    "testImages_hCast = methods.getTestRawImages(\"hCast\", (32,32))\n",
    "testImages_nhCast = methods.getTestRawImages(\"nhCast\", (32,32))\n",
    "testImages_nsEC = methods.getTestRawImages(\"nsEC\", (32,32))\n",
    "testImages_sEC = methods.getTestRawImages(\"sEC\", (32,32))\n",
    "testImages_WBC = methods.getTestRawImages(\"WBC\", (32,32))\n",
    "testImages_RBC = methods.getTestRawImages(\"RBC\", (32,32))\n",
    "testImages_Artifact = methods.getTestRawImages(\"Artifact\", (32,32))\n",
    "testImages_Dirt = methods.getTestRawImages(\"Dirt\", (32,32))\n",
    "testImages_LD = methods.getTestRawImages(\"LD\", (32,32))\n",
    "\n",
    "X_inliers = np.concatenate((testImages_cCry, testImages_sCry, testImages_uCry, testImages_hCast, testImages_nhCast, testImages_nsEC,\n",
    "                       testImages_sEC, testImages_WBC, testImages_RBC))\n",
    "unclassified_imgs = methods.getTestRawImages(\"Unclassified\", (32,32))"
   ]
  },
  {
   "cell_type": "code",
   "execution_count": 4,
   "id": "49ef2880",
   "metadata": {},
   "outputs": [],
   "source": [
    "inlier_dataset = []\n",
    "outlier_dataset = []\n",
    "\n",
    "def createInlierData():\n",
    "    for category in CATEGORIES_INLIER:\n",
    "        path = os.path.join(DATASET_DIR,category)\n",
    "        for img in os.listdir(path):\n",
    "            try:\n",
    "                img_array = cv2.imread(os.path.join(path, img), cv2.IMREAD_GRAYSCALE)\n",
    "                inlier_dataset.append(img_array)\n",
    "            except Exception as e:\n",
    "                pass\n",
    "\n",
    "def createOutlierData():\n",
    "    for category in CATEGORIES_OUTLIER:\n",
    "        path = os.path.join(DATASET_DIR,category)\n",
    "        for img in os.listdir(path):\n",
    "            try:\n",
    "                img_array = cv2.imread(os.path.join(path, img), cv2.IMREAD_GRAYSCALE)\n",
    "                outlier_dataset.append(img_array)\n",
    "            except Exception as e:\n",
    "                pass"
   ]
  },
  {
   "cell_type": "code",
   "execution_count": 5,
   "id": "df0686bd",
   "metadata": {
    "scrolled": true
   },
   "outputs": [
    {
     "name": "stdout",
     "output_type": "stream",
     "text": [
      "(21416, 32, 32, 1)\n",
      "(113, 32, 32, 1)\n"
     ]
    }
   ],
   "source": [
    "createInlierData()\n",
    "createOutlierData()\n",
    "\n",
    "X_inlier = np.array(inlier_dataset).reshape(-1, 32, 32, 1)\n",
    "# X_inlier = X_inlier.astype('float32') / 255\n",
    "# np.random.shuffle(X_inlier)\n",
    "\n",
    "X_outlier = np.array(outlier_dataset).reshape(-1, 32, 32, 1)\n",
    "# X_outlier = X_outlier.astype('float32') / 255\n",
    "# np.random.shuffle(X_outlier)\n",
    "\n",
    "print(X_inlier.shape)\n",
    "print(X_outlier.shape)"
   ]
  },
  {
   "cell_type": "code",
   "execution_count": 9,
   "id": "43d4cea0",
   "metadata": {},
   "outputs": [
    {
     "name": "stdout",
     "output_type": "stream",
     "text": [
      "/home/erdem/final/pixelcnn2/\n"
     ]
    }
   ],
   "source": [
    "print(filepath)"
   ]
  },
  {
   "cell_type": "code",
   "execution_count": 11,
   "id": "bda02ce9",
   "metadata": {},
   "outputs": [
    {
     "ename": "ValueError",
     "evalue": "Please provide to Input either a `shape` or a `tensor` argument. Note that `shape` does not include the batch dimension.",
     "output_type": "error",
     "traceback": [
      "\u001b[0;31m---------------------------------------------------------------------------\u001b[0m",
      "\u001b[0;31mValueError\u001b[0m                                Traceback (most recent call last)",
      "\u001b[0;32m<ipython-input-11-b652c624f4f6>\u001b[0m in \u001b[0;36m<module>\u001b[0;34m\u001b[0m\n\u001b[1;32m      1\u001b[0m \u001b[0mfilepath\u001b[0m \u001b[0;34m=\u001b[0m \u001b[0;34m'./pixelcnn/'\u001b[0m \u001b[0;31m# change to download directory\u001b[0m\u001b[0;34m\u001b[0m\u001b[0;34m\u001b[0m\u001b[0m\n\u001b[1;32m      2\u001b[0m \u001b[0;31m# save the trained outlier detector\u001b[0m\u001b[0;34m\u001b[0m\u001b[0;34m\u001b[0m\u001b[0;34m\u001b[0m\u001b[0m\n\u001b[0;32m----> 3\u001b[0;31m \u001b[0mod\u001b[0m \u001b[0;34m=\u001b[0m \u001b[0mload_detector\u001b[0m\u001b[0;34m(\u001b[0m\u001b[0mfilepath\u001b[0m\u001b[0;34m)\u001b[0m\u001b[0;34m\u001b[0m\u001b[0;34m\u001b[0m\u001b[0m\n\u001b[0m",
      "\u001b[0;32m~/miniconda3/envs/alibidetect/lib/python3.7/site-packages/alibi_detect/utils/saving.py\u001b[0m in \u001b[0;36mload_detector\u001b[0;34m(filepath, **kwargs)\u001b[0m\n\u001b[1;32m   1033\u001b[0m         \u001b[0mdetector\u001b[0m \u001b[0;34m=\u001b[0m \u001b[0mload_fn\u001b[0m\u001b[0;34m(\u001b[0m\u001b[0mstate_dict\u001b[0m\u001b[0;34m,\u001b[0m \u001b[0mmodel\u001b[0m\u001b[0;34m,\u001b[0m \u001b[0memb\u001b[0m\u001b[0;34m,\u001b[0m \u001b[0mtokenizer\u001b[0m\u001b[0;34m,\u001b[0m \u001b[0;34m**\u001b[0m\u001b[0mkwargs\u001b[0m\u001b[0;34m)\u001b[0m\u001b[0;34m\u001b[0m\u001b[0;34m\u001b[0m\u001b[0m\n\u001b[1;32m   1034\u001b[0m     \u001b[0;32melif\u001b[0m \u001b[0mdetector_name\u001b[0m \u001b[0;34m==\u001b[0m \u001b[0;34m'LLR'\u001b[0m\u001b[0;34m:\u001b[0m\u001b[0;34m\u001b[0m\u001b[0;34m\u001b[0m\u001b[0m\n\u001b[0;32m-> 1035\u001b[0;31m         \u001b[0mmodels\u001b[0m \u001b[0;34m=\u001b[0m \u001b[0mload_tf_llr\u001b[0m\u001b[0;34m(\u001b[0m\u001b[0mfilepath\u001b[0m\u001b[0;34m,\u001b[0m \u001b[0;34m**\u001b[0m\u001b[0mkwargs\u001b[0m\u001b[0;34m)\u001b[0m\u001b[0;34m\u001b[0m\u001b[0;34m\u001b[0m\u001b[0m\n\u001b[0m\u001b[1;32m   1036\u001b[0m         \u001b[0mdetector\u001b[0m \u001b[0;34m=\u001b[0m \u001b[0minit_od_llr\u001b[0m\u001b[0;34m(\u001b[0m\u001b[0mstate_dict\u001b[0m\u001b[0;34m,\u001b[0m \u001b[0mmodels\u001b[0m\u001b[0;34m)\u001b[0m\u001b[0;34m\u001b[0m\u001b[0;34m\u001b[0m\u001b[0m\n\u001b[1;32m   1037\u001b[0m \u001b[0;34m\u001b[0m\u001b[0m\n",
      "\u001b[0;32m~/miniconda3/envs/alibidetect/lib/python3.7/site-packages/alibi_detect/utils/saving.py\u001b[0m in \u001b[0;36mload_tf_llr\u001b[0;34m(filepath, dist_s, dist_b, input_shape)\u001b[0m\n\u001b[1;32m   1254\u001b[0m     \u001b[0mmodel_dir\u001b[0m \u001b[0;34m=\u001b[0m \u001b[0mos\u001b[0m\u001b[0;34m.\u001b[0m\u001b[0mpath\u001b[0m\u001b[0;34m.\u001b[0m\u001b[0mjoin\u001b[0m\u001b[0;34m(\u001b[0m\u001b[0mfilepath\u001b[0m\u001b[0;34m,\u001b[0m \u001b[0;34m'model'\u001b[0m\u001b[0;34m)\u001b[0m\u001b[0;34m\u001b[0m\u001b[0;34m\u001b[0m\u001b[0m\n\u001b[1;32m   1255\u001b[0m     \u001b[0;32mif\u001b[0m \u001b[0;34m'model_s.h5'\u001b[0m \u001b[0;32min\u001b[0m \u001b[0mos\u001b[0m\u001b[0;34m.\u001b[0m\u001b[0mlistdir\u001b[0m\u001b[0;34m(\u001b[0m\u001b[0mmodel_dir\u001b[0m\u001b[0;34m)\u001b[0m \u001b[0;32mand\u001b[0m \u001b[0;34m'model_b.h5'\u001b[0m \u001b[0;32min\u001b[0m \u001b[0mos\u001b[0m\u001b[0;34m.\u001b[0m\u001b[0mlistdir\u001b[0m\u001b[0;34m(\u001b[0m\u001b[0mmodel_dir\u001b[0m\u001b[0;34m)\u001b[0m\u001b[0;34m:\u001b[0m\u001b[0;34m\u001b[0m\u001b[0;34m\u001b[0m\u001b[0m\n\u001b[0;32m-> 1256\u001b[0;31m         \u001b[0mmodel_s\u001b[0m\u001b[0;34m,\u001b[0m \u001b[0mdist_s\u001b[0m \u001b[0;34m=\u001b[0m \u001b[0mbuild_model\u001b[0m\u001b[0;34m(\u001b[0m\u001b[0mdist_s\u001b[0m\u001b[0;34m,\u001b[0m \u001b[0minput_shape\u001b[0m\u001b[0;34m,\u001b[0m \u001b[0mos\u001b[0m\u001b[0;34m.\u001b[0m\u001b[0mpath\u001b[0m\u001b[0;34m.\u001b[0m\u001b[0mjoin\u001b[0m\u001b[0;34m(\u001b[0m\u001b[0mmodel_dir\u001b[0m\u001b[0;34m,\u001b[0m \u001b[0;34m'model_s.h5'\u001b[0m\u001b[0;34m)\u001b[0m\u001b[0;34m)\u001b[0m\u001b[0;34m\u001b[0m\u001b[0;34m\u001b[0m\u001b[0m\n\u001b[0m\u001b[1;32m   1257\u001b[0m         \u001b[0mmodel_b\u001b[0m\u001b[0;34m,\u001b[0m \u001b[0mdist_b\u001b[0m \u001b[0;34m=\u001b[0m \u001b[0mbuild_model\u001b[0m\u001b[0;34m(\u001b[0m\u001b[0mdist_b\u001b[0m\u001b[0;34m,\u001b[0m \u001b[0minput_shape\u001b[0m\u001b[0;34m,\u001b[0m \u001b[0mos\u001b[0m\u001b[0;34m.\u001b[0m\u001b[0mpath\u001b[0m\u001b[0;34m.\u001b[0m\u001b[0mjoin\u001b[0m\u001b[0;34m(\u001b[0m\u001b[0mmodel_dir\u001b[0m\u001b[0;34m,\u001b[0m \u001b[0;34m'model_b.h5'\u001b[0m\u001b[0;34m)\u001b[0m\u001b[0;34m)\u001b[0m\u001b[0;34m\u001b[0m\u001b[0;34m\u001b[0m\u001b[0m\n\u001b[1;32m   1258\u001b[0m         \u001b[0;32mreturn\u001b[0m \u001b[0mdist_s\u001b[0m\u001b[0;34m,\u001b[0m \u001b[0mdist_b\u001b[0m\u001b[0;34m,\u001b[0m \u001b[0mmodel_s\u001b[0m\u001b[0;34m,\u001b[0m \u001b[0mmodel_b\u001b[0m\u001b[0;34m\u001b[0m\u001b[0;34m\u001b[0m\u001b[0m\n",
      "\u001b[0;32m~/miniconda3/envs/alibidetect/lib/python3.7/site-packages/alibi_detect/od/llr.py\u001b[0m in \u001b[0;36mbuild_model\u001b[0;34m(dist, input_shape, filepath)\u001b[0m\n\u001b[1;32m     32\u001b[0m     \u001b[0mTensorFlow\u001b[0m \u001b[0mmodel\u001b[0m\u001b[0;34m.\u001b[0m\u001b[0;34m\u001b[0m\u001b[0;34m\u001b[0m\u001b[0m\n\u001b[1;32m     33\u001b[0m     \"\"\"\n\u001b[0;32m---> 34\u001b[0;31m     \u001b[0mx_in\u001b[0m \u001b[0;34m=\u001b[0m \u001b[0mInput\u001b[0m\u001b[0;34m(\u001b[0m\u001b[0mshape\u001b[0m\u001b[0;34m=\u001b[0m\u001b[0minput_shape\u001b[0m\u001b[0;34m)\u001b[0m\u001b[0;34m\u001b[0m\u001b[0;34m\u001b[0m\u001b[0m\n\u001b[0m\u001b[1;32m     35\u001b[0m     \u001b[0mlog_prob\u001b[0m \u001b[0;34m=\u001b[0m \u001b[0mdist\u001b[0m\u001b[0;34m.\u001b[0m\u001b[0mlog_prob\u001b[0m\u001b[0;34m(\u001b[0m\u001b[0mx_in\u001b[0m\u001b[0;34m)\u001b[0m\u001b[0;34m\u001b[0m\u001b[0;34m\u001b[0m\u001b[0m\n\u001b[1;32m     36\u001b[0m     \u001b[0mmodel\u001b[0m \u001b[0;34m=\u001b[0m \u001b[0mModel\u001b[0m\u001b[0;34m(\u001b[0m\u001b[0minputs\u001b[0m\u001b[0;34m=\u001b[0m\u001b[0mx_in\u001b[0m\u001b[0;34m,\u001b[0m \u001b[0moutputs\u001b[0m\u001b[0;34m=\u001b[0m\u001b[0mlog_prob\u001b[0m\u001b[0;34m)\u001b[0m\u001b[0;34m\u001b[0m\u001b[0;34m\u001b[0m\u001b[0m\n",
      "\u001b[0;32m~/miniconda3/envs/alibidetect/lib/python3.7/site-packages/tensorflow/python/keras/engine/input_layer.py\u001b[0m in \u001b[0;36mInput\u001b[0;34m(shape, batch_size, name, dtype, sparse, tensor, ragged, **kwargs)\u001b[0m\n\u001b[1;32m    294\u001b[0m                      'to Input, not both at the same time.')\n\u001b[1;32m    295\u001b[0m   \u001b[0;32mif\u001b[0m \u001b[0mbatch_input_shape\u001b[0m \u001b[0;32mis\u001b[0m \u001b[0;32mNone\u001b[0m \u001b[0;32mand\u001b[0m \u001b[0mshape\u001b[0m \u001b[0;32mis\u001b[0m \u001b[0;32mNone\u001b[0m \u001b[0;32mand\u001b[0m \u001b[0mtensor\u001b[0m \u001b[0;32mis\u001b[0m \u001b[0;32mNone\u001b[0m\u001b[0;34m:\u001b[0m\u001b[0;34m\u001b[0m\u001b[0;34m\u001b[0m\u001b[0m\n\u001b[0;32m--> 296\u001b[0;31m     raise ValueError('Please provide to Input either a `shape`'\n\u001b[0m\u001b[1;32m    297\u001b[0m                      \u001b[0;34m' or a `tensor` argument. Note that '\u001b[0m\u001b[0;34m\u001b[0m\u001b[0;34m\u001b[0m\u001b[0m\n\u001b[1;32m    298\u001b[0m                      \u001b[0;34m'`shape` does not include the batch '\u001b[0m\u001b[0;34m\u001b[0m\u001b[0;34m\u001b[0m\u001b[0m\n",
      "\u001b[0;31mValueError\u001b[0m: Please provide to Input either a `shape` or a `tensor` argument. Note that `shape` does not include the batch dimension."
     ]
    }
   ],
   "source": [
    "filepath = './pixelcnn/' # change to download directory\n",
    "# save the trained outlier detector\n",
    "od = load_detector(filepath)"
   ]
  },
  {
   "cell_type": "code",
   "execution_count": null,
   "id": "39976382",
   "metadata": {},
   "outputs": [],
   "source": []
  },
  {
   "cell_type": "code",
   "execution_count": null,
   "id": "e41e52db",
   "metadata": {},
   "outputs": [],
   "source": []
  }
 ],
 "metadata": {
  "kernelspec": {
   "display_name": "alibidetect",
   "language": "python",
   "name": "alibidetect"
  },
  "language_info": {
   "codemirror_mode": {
    "name": "ipython",
    "version": 3
   },
   "file_extension": ".py",
   "mimetype": "text/x-python",
   "name": "python",
   "nbconvert_exporter": "python",
   "pygments_lexer": "ipython3",
   "version": "3.7.10"
  }
 },
 "nbformat": 4,
 "nbformat_minor": 5
}
