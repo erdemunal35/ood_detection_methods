{
 "cells": [
  {
   "cell_type": "code",
   "execution_count": 10,
   "id": "6f3124c4",
   "metadata": {},
   "outputs": [
    {
     "name": "stdout",
     "output_type": "stream",
     "text": [
      "Num GPUs Available:  1\n"
     ]
    }
   ],
   "source": [
    "import tensorflow as tf\n",
    "from functools import partial\n",
    "from tensorflow.keras.layers import Conv2D, Dense, Flatten, InputLayer, Reshape\n",
    "from alibi_detect.cd.tensorflow import preprocess_drift\n",
    "from alibi_detect.cd import MMDDrift\n",
    "import numpy as np\n",
    "import methods\n",
    "import matplotlib.pyplot as plt\n",
    "import seaborn as sns\n",
    "import pandas as pd\n",
    "from ood_metrics import calc_metrics, plot_roc, plot_pr, plot_barcode\n",
    "\n",
    "import logging \n",
    "logger = tf.get_logger()\n",
    "logger.setLevel(logging.ERROR)\n",
    "\n",
    "physical_devices = tf.config.list_physical_devices('GPU')\n",
    "print(\"Num GPUs Available: \", len(physical_devices))\n",
    "# Assume that you have 12GB of GPU memory and want to allocate ~4GB:\n",
    "gpu_options = tf.compat.v1.GPUOptions(per_process_gpu_memory_fraction=0.1)\n",
    "\n",
    "sess = tf.compat.v1.Session(config=tf.compat.v1.ConfigProto(gpu_options=gpu_options))"
   ]
  },
  {
   "cell_type": "code",
   "execution_count": 11,
   "id": "734ba307",
   "metadata": {},
   "outputs": [],
   "source": [
    "from torchvision.utils import make_grid\n",
    "from torchvision.io import read_image\n",
    "import torchvision.transforms.functional as F\n",
    "import torch\n",
    "%matplotlib inline\n",
    "def show(imgs):\n",
    "    if not isinstance(imgs, list):\n",
    "        imgs = [imgs]\n",
    "    fix, axs = plt.subplots(ncols=len(imgs), squeeze=False)\n",
    "    for i, img in enumerate(imgs):\n",
    "        img = img.detach()\n",
    "        img = F.to_pil_image(img)\n",
    "        axs[0, i].imshow(np.asarray(img))\n",
    "        axs[0, i].set(xticklabels=[], yticklabels=[], xticks=[], yticks=[])"
   ]
  },
  {
   "cell_type": "code",
   "execution_count": 12,
   "id": "2aba6ff0",
   "metadata": {},
   "outputs": [
    {
     "data": {
      "text/plain": [
       "Sequential(\n",
       "  (conv10): Sequential(\n",
       "    (0): Conv2d(1, 32, kernel_size=(3, 3), stride=(2, 2), padding=(1, 1), bias=False)\n",
       "    (1): BatchNorm2d(32, eps=1e-05, momentum=0.1, affine=True, track_running_stats=True)\n",
       "    (2): ReLU()\n",
       "  )\n",
       "  (conv20): Sequential(\n",
       "    (0): Conv2d(32, 32, kernel_size=(3, 3), stride=(1, 1), padding=(1, 1), groups=32, bias=False)\n",
       "    (1): Conv2d(32, 32, kernel_size=(1, 1), stride=(1, 1), bias=False)\n",
       "    (2): BatchNorm2d(32, eps=1e-05, momentum=0.1, affine=True, track_running_stats=True)\n",
       "    (3): ReLU()\n",
       "  )\n",
       "  (conv11): Sequential(\n",
       "    (0): Conv2d(32, 32, kernel_size=(3, 3), stride=(2, 2), padding=(1, 1), groups=32, bias=False)\n",
       "    (1): Conv2d(32, 64, kernel_size=(1, 1), stride=(1, 1), bias=False)\n",
       "    (2): BatchNorm2d(64, eps=1e-05, momentum=0.1, affine=True, track_running_stats=True)\n",
       "    (3): ReLU()\n",
       "  )\n",
       "  (conv21): Sequential(\n",
       "    (0): Conv2d(64, 64, kernel_size=(3, 3), stride=(1, 1), padding=(1, 1), groups=64, bias=False)\n",
       "    (1): Conv2d(64, 64, kernel_size=(1, 1), stride=(1, 1), bias=False)\n",
       "    (2): BatchNorm2d(64, eps=1e-05, momentum=0.1, affine=True, track_running_stats=True)\n",
       "    (3): ReLU()\n",
       "  )\n",
       "  (conv12): Sequential(\n",
       "    (0): Conv2d(64, 64, kernel_size=(3, 3), stride=(2, 2), padding=(1, 1), groups=64, bias=False)\n",
       "    (1): Conv2d(64, 128, kernel_size=(1, 1), stride=(1, 1), bias=False)\n",
       "    (2): BatchNorm2d(128, eps=1e-05, momentum=0.1, affine=True, track_running_stats=True)\n",
       "    (3): ReLU()\n",
       "  )\n",
       "  (conv22): Sequential(\n",
       "    (0): Conv2d(128, 128, kernel_size=(3, 3), stride=(1, 1), padding=(1, 1), groups=128, bias=False)\n",
       "    (1): Conv2d(128, 128, kernel_size=(1, 1), stride=(1, 1), bias=False)\n",
       "    (2): BatchNorm2d(128, eps=1e-05, momentum=0.1, affine=True, track_running_stats=True)\n",
       "    (3): ReLU()\n",
       "  )\n",
       "  (drop): Dropout(p=0.2, inplace=False)\n",
       "  (flatten): Flatten(start_dim=1, end_dim=-1)\n",
       "  (final): Linear(in_features=2048, out_features=9, bias=True)\n",
       ")"
      ]
     },
     "execution_count": 12,
     "metadata": {},
     "output_type": "execute_result"
    }
   ],
   "source": [
    "from collections import OrderedDict\n",
    "\n",
    "import numpy as np\n",
    "import torch as th\n",
    "from torch import nn\n",
    "import seaborn as sns\n",
    "from pathlib import Path\n",
    "import matplotlib.pyplot as plt\n",
    "import cv2 \n",
    "\n",
    "import math\n",
    "from scipy.spatial import distance as mahal_distance\n",
    "\n",
    "from skimage.util import random_noise\n",
    "classes = np.array(['uCry', 'sCry', 'cCry', 'hCast', 'nhCast', 'sEC', 'nsEC', 'WBC', 'RBC'])\n",
    "outlier_classes1 = np.array(['Artifact', 'Dirt', 'LD'])\n",
    "outlier_classes2 = np.array(['blankurine', 'bubbles', 'cathair', 'condensation', 'dust', 'feces', 'fingerprint', 'humanhair',\n",
    "                            'Lipids', 'Lotion', 'pollen', 'semifilled', 'void', 'wetslide', 'yeast'])\n",
    "# Loading the pre-trained classifier\n",
    "\n",
    "def conv_bn_relu(\n",
    "        in_channels, out_channels,\n",
    "        kernel_size=3, padding=None, stride=1,\n",
    "        depthwise=False, normalization=True,\n",
    "        activation=True, init_bn_zero=False):\n",
    "    \"\"\"\n",
    "    Make a depthwise or normal convolution layer, \n",
    "    followed by batch normalization and an activation.\n",
    "    \"\"\"\n",
    "    layers = []\n",
    "    padding = kernel_size // 2 if padding is None else padding\n",
    "\n",
    "    if depthwise and in_channels > 1:\n",
    "        layers += [\n",
    "            nn.Conv2d(in_channels, in_channels, bias=False,\n",
    "                      kernel_size=kernel_size, stride=stride,\n",
    "                      padding=padding, groups=in_channels),\n",
    "            nn.Conv2d(in_channels, out_channels, \n",
    "                      bias=not normalization, kernel_size=1)\n",
    "        ]\n",
    "    else:\n",
    "        layers.append(\n",
    "            nn.Conv2d(in_channels, out_channels, bias=not normalization,\n",
    "                      kernel_size=kernel_size, stride=stride,\n",
    "                      padding=padding)\n",
    "        )\n",
    "    if normalization:\n",
    "        bn = nn.BatchNorm2d(out_channels)\n",
    "        if init_bn_zero:\n",
    "            nn.init.zeros_(bn.weight)\n",
    "        layers.append(bn)\n",
    "    if activation:\n",
    "        # TODO: parametrize activation\n",
    "        layers.append(nn.ReLU())\n",
    "    return nn.Sequential(*layers)\n",
    "\n",
    "def depthwise_cnn_classifier(\n",
    "    channels=[],\n",
    "    strides=None,\n",
    "    img_width=32,\n",
    "    img_height=32,\n",
    "    c_in=None,\n",
    "    c_out=None,\n",
    "):\n",
    "    channels = channels[:]\n",
    "    if c_in is not None:\n",
    "        channels.insert(0, c_in)\n",
    "    if c_out is not None:\n",
    "        channels.append(c_out)\n",
    "\n",
    "    if len(channels) < 2:\n",
    "        raise ValueError(\"Not enough channels\")\n",
    "\n",
    "    layers = OrderedDict()\n",
    "    number_convolutions = len(channels) - 2\n",
    "\n",
    "    if strides is None:\n",
    "        strides = [2] * number_convolutions\n",
    "\n",
    "    out_width = img_width\n",
    "    out_height = img_height\n",
    "\n",
    "    for layer_index in range(number_convolutions):\n",
    "        in_channels = channels[layer_index]\n",
    "        out_channels = channels[layer_index + 1]\n",
    "        layers[\"conv1\" + str(layer_index)] = conv_bn_relu(\n",
    "            in_channels,\n",
    "            out_channels,\n",
    "            kernel_size=3,\n",
    "            stride=strides[layer_index],\n",
    "            depthwise=layer_index > 0,\n",
    "            normalization=True,\n",
    "            activation=True,\n",
    "        )\n",
    "        layers[\"conv2\" + str(layer_index)] = conv_bn_relu(\n",
    "            out_channels,\n",
    "            out_channels,\n",
    "            kernel_size=3,\n",
    "            stride=1,\n",
    "            depthwise=True,\n",
    "            normalization=True,\n",
    "            activation=True,\n",
    "        )\n",
    "\n",
    "        out_width = out_width // strides[layer_index]\n",
    "        out_height = out_height // strides[layer_index]\n",
    "\n",
    "    layers[\"drop\"] = nn.Dropout(p=0.2)\n",
    "    layers[\"flatten\"] = nn.Flatten()\n",
    "    layers[\"final\"] = nn.Linear(out_width * out_height * channels[-2], channels[-1])\n",
    "    #layers[\"softmax\"] = nn.Softmax(-1)\n",
    "\n",
    "    return nn.Sequential(layers)\n",
    "\n",
    "\n",
    "\n",
    "# load model\n",
    "cnn = depthwise_cnn_classifier([32, 64, 128], c_in=1, c_out=9, img_width=32, img_height=32)\n",
    "cnn.load_state_dict(th.load(\"/home/erdem/pickle/thomas_classifier/urine_classifier_uniform_32x32.pt\"))\n",
    "cnn.eval()  # IMPORTANT\n",
    "cnn"
   ]
  },
  {
   "cell_type": "code",
   "execution_count": 13,
   "id": "62ba6b82",
   "metadata": {},
   "outputs": [],
   "source": [
    "from copy import deepcopy\n",
    "cnn_flattened = deepcopy(cnn)\n",
    "del cnn_flattened[-1] # remove linear"
   ]
  },
  {
   "cell_type": "code",
   "execution_count": 60,
   "id": "3acf03ac",
   "metadata": {},
   "outputs": [
    {
     "name": "stderr",
     "output_type": "stream",
     "text": [
      "/home/erdem/miniconda3/envs/alibidetect/lib/python3.7/site-packages/ipykernel_launcher.py:18: VisibleDeprecationWarning: Creating an ndarray from ragged nested sequences (which is a list-or-tuple of lists-or-tuples-or ndarrays with different lengths or shapes) is deprecated. If you meant to do this, you must specify 'dtype=object' when creating the ndarray\n"
     ]
    }
   ],
   "source": [
    "inlier_names = [\"cCry\", \"sCry\", \"uCry\", \"hCast\", \"nhCast\", \"nsEC\", \"sEC\", \"WBC\", \"RBC\", \"Artifact\", \"Dirt\", \"LD\"]\n",
    "testImages_cCry = methods.getTestRawImages(\"cCry\", (32,32))\n",
    "testImages_sCry = methods.getTestRawImages(\"sCry\", (32,32))\n",
    "testImages_uCry = methods.getTestRawImages(\"uCry\", (32,32))\n",
    "testImages_hCast = methods.getTestRawImages(\"hCast\", (32,32))\n",
    "testImages_nhCast = methods.getTestRawImages(\"nhCast\", (32,32))\n",
    "testImages_nsEC = methods.getTestRawImages(\"nsEC\", (32,32))\n",
    "testImages_sEC = methods.getTestRawImages(\"sEC\", (32,32))\n",
    "testImages_WBC = methods.getTestRawImages(\"WBC\", (32,32))\n",
    "testImages_RBC = methods.getTestRawImages(\"RBC\", (32,32))\n",
    "testImages_Artifact = methods.getTestRawImages(\"Artifact\", (32,32))\n",
    "testImages_Dirt = methods.getTestRawImages(\"Dirt\", (32,32))\n",
    "testImages_LD = methods.getTestRawImages(\"LD\", (32,32))\n",
    "\n",
    "# X_inliers = np.concatenate((testImages_cCry, testImages_sCry, testImages_uCry, testImages_hCast, testImages_nhCast, testImages_nsEC,\n",
    "#                        testImages_sEC, testImages_WBC, testImages_RBC))\n",
    "X_inliers = np.array([testImages_cCry, testImages_sCry, testImages_uCry, testImages_hCast, testImages_nhCast, testImages_nsEC,\n",
    "                        testImages_sEC, testImages_WBC, testImages_RBC])\n",
    "unclassified_imgs = methods.getTestRawImages(\"Unclassified\", (32,32))"
   ]
  },
  {
   "cell_type": "code",
   "execution_count": 63,
   "id": "27c9a465",
   "metadata": {},
   "outputs": [],
   "source": [
    "def getPermuteOutputs(f, X):\n",
    "    outputs = [][]\n",
    "    for a in X:\n",
    "        for x in a:\n",
    "            outputs.append(f(th.from_numpy(x.reshape(1,1,32,32)) - 1).detach().view(-1).numpy())   \n",
    "    return np.asarray(outputs).reshape(-1, 2048)"
   ]
  },
  {
   "cell_type": "code",
   "execution_count": 64,
   "id": "5bc96b3f",
   "metadata": {},
   "outputs": [],
   "source": [
    "def test_mmd(cd, imgs_ref, imgs, outlier_imgs, label):\n",
    "    p_vals = []\n",
    "    distances = []\n",
    "    labels = []\n",
    "    imgs_array = []\n",
    "    for img in imgs:\n",
    "        p_val, dist = cd.feature_score(x_ref=imgs_ref, x=img.reshape(-1,9))\n",
    "        p_vals.append(np.mean(p_val))\n",
    "        distances.append(np.mean(dist))\n",
    "        labels.append(label)\n",
    "    d = {\"p_vals\": p_vals, \"distances\": distances, \"labels\": labels, \"imgs_array\": outlier_imgs.tolist()}\n",
    "\n",
    "    df = pd.DataFrame(data=d)\n",
    "    return df\n",
    "def test_mmd_final(cd, f, imgs_ref, perturb = None, y_limit = None):\n",
    "    inlier_scores = []\n",
    "    inlier_labels = []\n",
    "    outlier_scores = []\n",
    "    outlier_labels = []\n",
    "    inlier_path = \"/home/erdem/dataset/urine_test_32/inliers\"\n",
    "    outlier_path = \"/home/erdem/dataset/urine_test_32/outliers\"\n",
    "    # Inliers\n",
    "    for img_path in Path(inlier_path).glob(\"*.png\"):\n",
    "        inlier_labels.append(0)\n",
    "        image = plt.imread(img_path)\n",
    "        if perturb == 'gaussian':\n",
    "            image = th.tensor(random_noise(image, mode='gaussian', mean=0, var=0.01, clip=True)).float()\n",
    "        elif perturb == 's&p':\n",
    "            image = th.tensor(random_noise(image, mode='s&p', salt_vs_pepper=0.5, amount=0.03, clip=True))\n",
    "        output = f(th.from_numpy(image.reshape(1,1,32,32)) - 1).detach().view(-1).numpy()\n",
    "        _, dist = cd.feature_score(x_ref=imgs_ref, x=output.reshape(1, 2048))\n",
    "        temp_score = np.amax(np.mean(dist))\n",
    "        inlier_scores.append(temp_score)\n",
    "    \n",
    "    # Outliers\n",
    "    for img_path in Path(outlier_path).glob(\"*.png\"):\n",
    "        outlier_labels.append(1)\n",
    "        image = plt.imread(img_path)\n",
    "        if perturb == 'gaussian':\n",
    "            image = th.tensor(random_noise(image, mode='gaussian', mean=0, var=0.01, clip=True)).float()\n",
    "        elif perturb == 's&p':\n",
    "            image = th.tensor(random_noise(image, mode='s&p', salt_vs_pepper=0.5, amount=0.03, clip=True))\n",
    "        output = f(th.from_numpy(image.reshape(1,1,32,32)) - 1).detach().view(-1).numpy()\n",
    "        _, dist = cd.feature_score(x_ref=imgs_ref, x=output.reshape(1, 2048))\n",
    "        temp_score = np.amax(np.mean(dist))\n",
    "        outlier_scores.append(temp_score)\n",
    "    \n",
    "    d_outliers = {\"K-S Distance\": outlier_scores, \"outlier_labels\": outlier_labels, \"Index of Image Patches\": np.linspace(1, 636, num=636)}\n",
    "    d_inliers = {\"K-S Distance\": inlier_scores, \"inlier_labels\": inlier_labels, \"Index of Image Patches\": np.linspace(1, 636, num=636)}\n",
    "    df1 = pd.DataFrame(data=d_inliers)\n",
    "    df2 = pd.DataFrame(data=d_outliers)\n",
    "    g = sns.scatterplot(data=df1, x=\"Index of Image Patches\", y=\"K-S Distance\")\n",
    "    g = sns.scatterplot(data=df2, x=\"Index of Image Patches\", y=\"K-S Distance\")\n",
    "    g.set(ylim=(0, y_limit))\n",
    "    score_array = inlier_scores+outlier_scores\n",
    "    label_array = inlier_labels+outlier_labels\n",
    "\n",
    "    print(calc_metrics(score_array, label_array))\n",
    "\n",
    "    plot_roc(score_array, label_array)\n",
    "    plot_pr(score_array, label_array)\n",
    "#     plot_barcode(score_array, label_array)"
   ]
  },
  {
   "cell_type": "code",
   "execution_count": 65,
   "id": "8ba698e9",
   "metadata": {},
   "outputs": [],
   "source": [
    "inlier_outputs = getPermuteOutputs(cnn_flattened, X_inliers)"
   ]
  },
  {
   "cell_type": "code",
   "execution_count": 66,
   "id": "f9bf2abb",
   "metadata": {
    "scrolled": true
   },
   "outputs": [
    {
     "data": {
      "text/plain": [
       "(7965, 2048)"
      ]
     },
     "execution_count": 66,
     "metadata": {},
     "output_type": "execute_result"
    }
   ],
   "source": [
    "inlier_outputs.shape"
   ]
  },
  {
   "cell_type": "code",
   "execution_count": 19,
   "id": "d4e8b73f",
   "metadata": {},
   "outputs": [],
   "source": [
    "unclassified_outputs = getPermuteOutputs(cnn_flattened, unclassified_imgs)"
   ]
  },
  {
   "cell_type": "code",
   "execution_count": 20,
   "id": "f9735a3d",
   "metadata": {},
   "outputs": [
    {
     "data": {
      "text/plain": [
       "(1975, 2048)"
      ]
     },
     "execution_count": 20,
     "metadata": {},
     "output_type": "execute_result"
    }
   ],
   "source": [
    "unclassified_outputs.shape"
   ]
  },
  {
   "cell_type": "code",
   "execution_count": 23,
   "id": "f9dc2b2e",
   "metadata": {},
   "outputs": [],
   "source": [
    "RBC_outputs = getPermuteOutputs(cnn_flattened, testImages_RBC)"
   ]
  },
  {
   "cell_type": "code",
   "execution_count": 24,
   "id": "c29a4f2f",
   "metadata": {},
   "outputs": [],
   "source": [
    "Artifacts_outputs = getPermuteOutputs(cnn_flattened, testImages_Artifact)"
   ]
  },
  {
   "cell_type": "code",
   "execution_count": 25,
   "id": "70b7b396",
   "metadata": {},
   "outputs": [],
   "source": [
    "Dirt_outputs = getPermuteOutputs(cnn_flattened, testImages_Dirt)"
   ]
  },
  {
   "cell_type": "code",
   "execution_count": 57,
   "id": "a1c7d707",
   "metadata": {},
   "outputs": [],
   "source": [
    "cd = MMDDrift(inlier_outputs, backend='tensorflow', p_val=.05, preprocess_x_ref=False, n_permutations=100)"
   ]
  },
  {
   "cell_type": "code",
   "execution_count": 59,
   "id": "a0377f1c",
   "metadata": {},
   "outputs": [
    {
     "name": "stdout",
     "output_type": "stream",
     "text": [
      "{'data': {'is_drift': 1, 'distance': 0.10999131, 'p_val': 0.01, 'threshold': 0.05, 'distance_threshold': 0.042699277}, 'meta': {'name': 'MMDDriftTF', 'detector_type': 'offline', 'data_type': None, 'backend': 'tensorflow'}}\n",
      "{'data': {'is_drift': 0, 'distance': 0.04348433, 'p_val': 0.06, 'threshold': 0.05, 'distance_threshold': 0.05738312}, 'meta': {'name': 'MMDDriftTF', 'detector_type': 'offline', 'data_type': None, 'backend': 'tensorflow'}}\n",
      "{'data': {'is_drift': 1, 'distance': 0.08015615, 'p_val': 0.04, 'threshold': 0.05, 'distance_threshold': 0.06579518}, 'meta': {'name': 'MMDDriftTF', 'detector_type': 'offline', 'data_type': None, 'backend': 'tensorflow'}}\n",
      "{'data': {'is_drift': 1, 'distance': 0.07856774, 'p_val': 0.02, 'threshold': 0.05, 'distance_threshold': 0.060274243}, 'meta': {'name': 'MMDDriftTF', 'detector_type': 'offline', 'data_type': None, 'backend': 'tensorflow'}}\n",
      "{'data': {'is_drift': 1, 'distance': 0.044469953, 'p_val': 0.04, 'threshold': 0.05, 'distance_threshold': 0.043307126}, 'meta': {'name': 'MMDDriftTF', 'detector_type': 'offline', 'data_type': None, 'backend': 'tensorflow'}}\n",
      "{'data': {'is_drift': 1, 'distance': 0.06838715, 'p_val': 0.02, 'threshold': 0.05, 'distance_threshold': 0.045054793}, 'meta': {'name': 'MMDDriftTF', 'detector_type': 'offline', 'data_type': None, 'backend': 'tensorflow'}}\n",
      "{'data': {'is_drift': 1, 'distance': 0.11400962, 'p_val': 0.01, 'threshold': 0.05, 'distance_threshold': 0.04506409}, 'meta': {'name': 'MMDDriftTF', 'detector_type': 'offline', 'data_type': None, 'backend': 'tensorflow'}}\n",
      "{'data': {'is_drift': 1, 'distance': 0.12848306, 'p_val': 0.0, 'threshold': 0.05, 'distance_threshold': 0.052301586}, 'meta': {'name': 'MMDDriftTF', 'detector_type': 'offline', 'data_type': None, 'backend': 'tensorflow'}}\n",
      "{'data': {'is_drift': 1, 'distance': 0.15021122, 'p_val': 0.01, 'threshold': 0.05, 'distance_threshold': 0.071998715}, 'meta': {'name': 'MMDDriftTF', 'detector_type': 'offline', 'data_type': None, 'backend': 'tensorflow'}}\n",
      "{'data': {'is_drift': 1, 'distance': 0.14117599, 'p_val': 0.0, 'threshold': 0.05, 'distance_threshold': 0.05020702}, 'meta': {'name': 'MMDDriftTF', 'detector_type': 'offline', 'data_type': None, 'backend': 'tensorflow'}}\n",
      "{'data': {'is_drift': 1, 'distance': 0.13351405, 'p_val': 0.0, 'threshold': 0.05, 'distance_threshold': 0.039105654}, 'meta': {'name': 'MMDDriftTF', 'detector_type': 'offline', 'data_type': None, 'backend': 'tensorflow'}}\n",
      "{'data': {'is_drift': 1, 'distance': 0.1120317, 'p_val': 0.0, 'threshold': 0.05, 'distance_threshold': 0.05493796}, 'meta': {'name': 'MMDDriftTF', 'detector_type': 'offline', 'data_type': None, 'backend': 'tensorflow'}}\n",
      "{'data': {'is_drift': 1, 'distance': 0.10618597, 'p_val': 0.01, 'threshold': 0.05, 'distance_threshold': 0.049925327}, 'meta': {'name': 'MMDDriftTF', 'detector_type': 'offline', 'data_type': None, 'backend': 'tensorflow'}}\n",
      "{'data': {'is_drift': 1, 'distance': 0.10533929, 'p_val': 0.0, 'threshold': 0.05, 'distance_threshold': 0.073642015}, 'meta': {'name': 'MMDDriftTF', 'detector_type': 'offline', 'data_type': None, 'backend': 'tensorflow'}}\n",
      "{'data': {'is_drift': 1, 'distance': 0.15796512, 'p_val': 0.0, 'threshold': 0.05, 'distance_threshold': 0.0762983}, 'meta': {'name': 'MMDDriftTF', 'detector_type': 'offline', 'data_type': None, 'backend': 'tensorflow'}}\n",
      "{'data': {'is_drift': 1, 'distance': 0.083838165, 'p_val': 0.04, 'threshold': 0.05, 'distance_threshold': 0.07446092}, 'meta': {'name': 'MMDDriftTF', 'detector_type': 'offline', 'data_type': None, 'backend': 'tensorflow'}}\n",
      "{'data': {'is_drift': 1, 'distance': 0.073342085, 'p_val': 0.02, 'threshold': 0.05, 'distance_threshold': 0.055915713}, 'meta': {'name': 'MMDDriftTF', 'detector_type': 'offline', 'data_type': None, 'backend': 'tensorflow'}}\n",
      "{'data': {'is_drift': 0, 'distance': 0.043331623, 'p_val': 0.11, 'threshold': 0.05, 'distance_threshold': 0.070837855}, 'meta': {'name': 'MMDDriftTF', 'detector_type': 'offline', 'data_type': None, 'backend': 'tensorflow'}}\n",
      "{'data': {'is_drift': 1, 'distance': 0.06164843, 'p_val': 0.03, 'threshold': 0.05, 'distance_threshold': 0.045708954}, 'meta': {'name': 'MMDDriftTF', 'detector_type': 'offline', 'data_type': None, 'backend': 'tensorflow'}}\n",
      "{'data': {'is_drift': 1, 'distance': 0.076037824, 'p_val': 0.03, 'threshold': 0.05, 'distance_threshold': 0.0527457}, 'meta': {'name': 'MMDDriftTF', 'detector_type': 'offline', 'data_type': None, 'backend': 'tensorflow'}}\n",
      "{'data': {'is_drift': 1, 'distance': 0.112136245, 'p_val': 0.02, 'threshold': 0.05, 'distance_threshold': 0.07979262}, 'meta': {'name': 'MMDDriftTF', 'detector_type': 'offline', 'data_type': None, 'backend': 'tensorflow'}}\n",
      "{'data': {'is_drift': 1, 'distance': 0.109635055, 'p_val': 0.01, 'threshold': 0.05, 'distance_threshold': 0.06729758}, 'meta': {'name': 'MMDDriftTF', 'detector_type': 'offline', 'data_type': None, 'backend': 'tensorflow'}}\n",
      "{'data': {'is_drift': 1, 'distance': 0.10057396, 'p_val': 0.0, 'threshold': 0.05, 'distance_threshold': 0.04875648}, 'meta': {'name': 'MMDDriftTF', 'detector_type': 'offline', 'data_type': None, 'backend': 'tensorflow'}}\n",
      "{'data': {'is_drift': 1, 'distance': 0.13884783, 'p_val': 0.0, 'threshold': 0.05, 'distance_threshold': 0.06324178}, 'meta': {'name': 'MMDDriftTF', 'detector_type': 'offline', 'data_type': None, 'backend': 'tensorflow'}}\n",
      "{'data': {'is_drift': 1, 'distance': 0.17849702, 'p_val': 0.0, 'threshold': 0.05, 'distance_threshold': 0.04115945}, 'meta': {'name': 'MMDDriftTF', 'detector_type': 'offline', 'data_type': None, 'backend': 'tensorflow'}}\n",
      "{'data': {'is_drift': 1, 'distance': 0.21353453, 'p_val': 0.01, 'threshold': 0.05, 'distance_threshold': 0.053266406}, 'meta': {'name': 'MMDDriftTF', 'detector_type': 'offline', 'data_type': None, 'backend': 'tensorflow'}}\n",
      "{'data': {'is_drift': 1, 'distance': 0.18333352, 'p_val': 0.0, 'threshold': 0.05, 'distance_threshold': 0.043298066}, 'meta': {'name': 'MMDDriftTF', 'detector_type': 'offline', 'data_type': None, 'backend': 'tensorflow'}}\n",
      "{'data': {'is_drift': 1, 'distance': 0.21989703, 'p_val': 0.0, 'threshold': 0.05, 'distance_threshold': 0.045489848}, 'meta': {'name': 'MMDDriftTF', 'detector_type': 'offline', 'data_type': None, 'backend': 'tensorflow'}}\n",
      "{'data': {'is_drift': 1, 'distance': 0.22767222, 'p_val': 0.0, 'threshold': 0.05, 'distance_threshold': 0.053798676}, 'meta': {'name': 'MMDDriftTF', 'detector_type': 'offline', 'data_type': None, 'backend': 'tensorflow'}}\n",
      "{'data': {'is_drift': 1, 'distance': 0.21006596, 'p_val': 0.0, 'threshold': 0.05, 'distance_threshold': 0.05256468}, 'meta': {'name': 'MMDDriftTF', 'detector_type': 'offline', 'data_type': None, 'backend': 'tensorflow'}}\n",
      "{'data': {'is_drift': 1, 'distance': 0.22198075, 'p_val': 0.01, 'threshold': 0.05, 'distance_threshold': 0.09998274}, 'meta': {'name': 'MMDDriftTF', 'detector_type': 'offline', 'data_type': None, 'backend': 'tensorflow'}}\n",
      "{'data': {'is_drift': 1, 'distance': 0.16897649, 'p_val': 0.0, 'threshold': 0.05, 'distance_threshold': 0.0489673}, 'meta': {'name': 'MMDDriftTF', 'detector_type': 'offline', 'data_type': None, 'backend': 'tensorflow'}}\n",
      "{'data': {'is_drift': 1, 'distance': 0.18747479, 'p_val': 0.0, 'threshold': 0.05, 'distance_threshold': 0.0500347}, 'meta': {'name': 'MMDDriftTF', 'detector_type': 'offline', 'data_type': None, 'backend': 'tensorflow'}}\n",
      "{'data': {'is_drift': 1, 'distance': 0.11111683, 'p_val': 0.02, 'threshold': 0.05, 'distance_threshold': 0.08205414}, 'meta': {'name': 'MMDDriftTF', 'detector_type': 'offline', 'data_type': None, 'backend': 'tensorflow'}}\n",
      "{'data': {'is_drift': 1, 'distance': 0.12117845, 'p_val': 0.0, 'threshold': 0.05, 'distance_threshold': 0.06133163}, 'meta': {'name': 'MMDDriftTF', 'detector_type': 'offline', 'data_type': None, 'backend': 'tensorflow'}}\n",
      "{'data': {'is_drift': 1, 'distance': 0.10956216, 'p_val': 0.01, 'threshold': 0.05, 'distance_threshold': 0.06791335}, 'meta': {'name': 'MMDDriftTF', 'detector_type': 'offline', 'data_type': None, 'backend': 'tensorflow'}}\n",
      "{'data': {'is_drift': 1, 'distance': 0.1374203, 'p_val': 0.0, 'threshold': 0.05, 'distance_threshold': 0.052056372}, 'meta': {'name': 'MMDDriftTF', 'detector_type': 'offline', 'data_type': None, 'backend': 'tensorflow'}}\n"
     ]
    },
    {
     "name": "stdout",
     "output_type": "stream",
     "text": [
      "{'data': {'is_drift': 1, 'distance': 0.14045405, 'p_val': 0.0, 'threshold': 0.05, 'distance_threshold': 0.06870389}, 'meta': {'name': 'MMDDriftTF', 'detector_type': 'offline', 'data_type': None, 'backend': 'tensorflow'}}\n",
      "{'data': {'is_drift': 1, 'distance': 0.19246894, 'p_val': 0.0, 'threshold': 0.05, 'distance_threshold': 0.049282193}, 'meta': {'name': 'MMDDriftTF', 'detector_type': 'offline', 'data_type': None, 'backend': 'tensorflow'}}\n",
      "{'data': {'is_drift': 1, 'distance': 0.20067012, 'p_val': 0.0, 'threshold': 0.05, 'distance_threshold': 0.042311907}, 'meta': {'name': 'MMDDriftTF', 'detector_type': 'offline', 'data_type': None, 'backend': 'tensorflow'}}\n",
      "{'data': {'is_drift': 1, 'distance': 0.15334952, 'p_val': 0.0, 'threshold': 0.05, 'distance_threshold': 0.054234922}, 'meta': {'name': 'MMDDriftTF', 'detector_type': 'offline', 'data_type': None, 'backend': 'tensorflow'}}\n",
      "{'data': {'is_drift': 1, 'distance': 0.15672135, 'p_val': 0.0, 'threshold': 0.05, 'distance_threshold': 0.06288606}, 'meta': {'name': 'MMDDriftTF', 'detector_type': 'offline', 'data_type': None, 'backend': 'tensorflow'}}\n",
      "{'data': {'is_drift': 1, 'distance': 0.16895717, 'p_val': 0.0, 'threshold': 0.05, 'distance_threshold': 0.06043166}, 'meta': {'name': 'MMDDriftTF', 'detector_type': 'offline', 'data_type': None, 'backend': 'tensorflow'}}\n",
      "{'data': {'is_drift': 1, 'distance': 0.09203857, 'p_val': 0.03, 'threshold': 0.05, 'distance_threshold': 0.06814873}, 'meta': {'name': 'MMDDriftTF', 'detector_type': 'offline', 'data_type': None, 'backend': 'tensorflow'}}\n",
      "{'data': {'is_drift': 1, 'distance': 0.084248066, 'p_val': 0.01, 'threshold': 0.05, 'distance_threshold': 0.046361923}, 'meta': {'name': 'MMDDriftTF', 'detector_type': 'offline', 'data_type': None, 'backend': 'tensorflow'}}\n",
      "{'data': {'is_drift': 1, 'distance': 0.13238966, 'p_val': 0.02, 'threshold': 0.05, 'distance_threshold': 0.06349343}, 'meta': {'name': 'MMDDriftTF', 'detector_type': 'offline', 'data_type': None, 'backend': 'tensorflow'}}\n",
      "{'data': {'is_drift': 1, 'distance': 0.11566985, 'p_val': 0.01, 'threshold': 0.05, 'distance_threshold': 0.064385414}, 'meta': {'name': 'MMDDriftTF', 'detector_type': 'offline', 'data_type': None, 'backend': 'tensorflow'}}\n",
      "{'data': {'is_drift': 1, 'distance': 0.10374355, 'p_val': 0.0, 'threshold': 0.05, 'distance_threshold': 0.053564668}, 'meta': {'name': 'MMDDriftTF', 'detector_type': 'offline', 'data_type': None, 'backend': 'tensorflow'}}\n",
      "{'data': {'is_drift': 1, 'distance': 0.09275168, 'p_val': 0.03, 'threshold': 0.05, 'distance_threshold': 0.062280715}, 'meta': {'name': 'MMDDriftTF', 'detector_type': 'offline', 'data_type': None, 'backend': 'tensorflow'}}\n",
      "{'data': {'is_drift': 1, 'distance': 0.08862132, 'p_val': 0.0, 'threshold': 0.05, 'distance_threshold': 0.06710136}, 'meta': {'name': 'MMDDriftTF', 'detector_type': 'offline', 'data_type': None, 'backend': 'tensorflow'}}\n",
      "{'data': {'is_drift': 1, 'distance': 0.09211886, 'p_val': 0.02, 'threshold': 0.05, 'distance_threshold': 0.06960142}, 'meta': {'name': 'MMDDriftTF', 'detector_type': 'offline', 'data_type': None, 'backend': 'tensorflow'}}\n",
      "{'data': {'is_drift': 1, 'distance': 0.132451, 'p_val': 0.01, 'threshold': 0.05, 'distance_threshold': 0.03843063}, 'meta': {'name': 'MMDDriftTF', 'detector_type': 'offline', 'data_type': None, 'backend': 'tensorflow'}}\n",
      "{'data': {'is_drift': 1, 'distance': 0.17236286, 'p_val': 0.0, 'threshold': 0.05, 'distance_threshold': 0.054080844}, 'meta': {'name': 'MMDDriftTF', 'detector_type': 'offline', 'data_type': None, 'backend': 'tensorflow'}}\n",
      "{'data': {'is_drift': 1, 'distance': 0.26451916, 'p_val': 0.0, 'threshold': 0.05, 'distance_threshold': 0.054026663}, 'meta': {'name': 'MMDDriftTF', 'detector_type': 'offline', 'data_type': None, 'backend': 'tensorflow'}}\n",
      "{'data': {'is_drift': 1, 'distance': 0.21849453, 'p_val': 0.0, 'threshold': 0.05, 'distance_threshold': 0.049055636}, 'meta': {'name': 'MMDDriftTF', 'detector_type': 'offline', 'data_type': None, 'backend': 'tensorflow'}}\n",
      "{'data': {'is_drift': 1, 'distance': 0.20900154, 'p_val': 0.0, 'threshold': 0.05, 'distance_threshold': 0.043717563}, 'meta': {'name': 'MMDDriftTF', 'detector_type': 'offline', 'data_type': None, 'backend': 'tensorflow'}}\n",
      "{'data': {'is_drift': 1, 'distance': 0.18305653, 'p_val': 0.0, 'threshold': 0.05, 'distance_threshold': 0.05483246}, 'meta': {'name': 'MMDDriftTF', 'detector_type': 'offline', 'data_type': None, 'backend': 'tensorflow'}}\n",
      "{'data': {'is_drift': 1, 'distance': 0.15392393, 'p_val': 0.0, 'threshold': 0.05, 'distance_threshold': 0.06339574}, 'meta': {'name': 'MMDDriftTF', 'detector_type': 'offline', 'data_type': None, 'backend': 'tensorflow'}}\n",
      "{'data': {'is_drift': 1, 'distance': 0.14769846, 'p_val': 0.0, 'threshold': 0.05, 'distance_threshold': 0.03819859}, 'meta': {'name': 'MMDDriftTF', 'detector_type': 'offline', 'data_type': None, 'backend': 'tensorflow'}}\n",
      "{'data': {'is_drift': 1, 'distance': 0.19319236, 'p_val': 0.0, 'threshold': 0.05, 'distance_threshold': 0.036847115}, 'meta': {'name': 'MMDDriftTF', 'detector_type': 'offline', 'data_type': None, 'backend': 'tensorflow'}}\n",
      "{'data': {'is_drift': 1, 'distance': 0.09256524, 'p_val': 0.0, 'threshold': 0.05, 'distance_threshold': 0.06252861}, 'meta': {'name': 'MMDDriftTF', 'detector_type': 'offline', 'data_type': None, 'backend': 'tensorflow'}}\n",
      "{'data': {'is_drift': 1, 'distance': 0.117091775, 'p_val': 0.0, 'threshold': 0.05, 'distance_threshold': 0.04424274}, 'meta': {'name': 'MMDDriftTF', 'detector_type': 'offline', 'data_type': None, 'backend': 'tensorflow'}}\n",
      "{'data': {'is_drift': 1, 'distance': 0.11017519, 'p_val': 0.0, 'threshold': 0.05, 'distance_threshold': 0.049279213}, 'meta': {'name': 'MMDDriftTF', 'detector_type': 'offline', 'data_type': None, 'backend': 'tensorflow'}}\n",
      "{'data': {'is_drift': 0, 'distance': 0.037790835, 'p_val': 0.07, 'threshold': 0.05, 'distance_threshold': 0.039209485}, 'meta': {'name': 'MMDDriftTF', 'detector_type': 'offline', 'data_type': None, 'backend': 'tensorflow'}}\n",
      "{'data': {'is_drift': 0, 'distance': 0.037611783, 'p_val': 0.11, 'threshold': 0.05, 'distance_threshold': 0.073004246}, 'meta': {'name': 'MMDDriftTF', 'detector_type': 'offline', 'data_type': None, 'backend': 'tensorflow'}}\n",
      "{'data': {'is_drift': 1, 'distance': 0.14343238, 'p_val': 0.0, 'threshold': 0.05, 'distance_threshold': 0.05318302}, 'meta': {'name': 'MMDDriftTF', 'detector_type': 'offline', 'data_type': None, 'backend': 'tensorflow'}}\n",
      "{'data': {'is_drift': 1, 'distance': 0.09062636, 'p_val': 0.0, 'threshold': 0.05, 'distance_threshold': 0.037516475}, 'meta': {'name': 'MMDDriftTF', 'detector_type': 'offline', 'data_type': None, 'backend': 'tensorflow'}}\n",
      "{'data': {'is_drift': 1, 'distance': 0.12908179, 'p_val': 0.02, 'threshold': 0.05, 'distance_threshold': 0.06916976}, 'meta': {'name': 'MMDDriftTF', 'detector_type': 'offline', 'data_type': None, 'backend': 'tensorflow'}}\n",
      "{'data': {'is_drift': 1, 'distance': 0.18509793, 'p_val': 0.0, 'threshold': 0.05, 'distance_threshold': 0.061350167}, 'meta': {'name': 'MMDDriftTF', 'detector_type': 'offline', 'data_type': None, 'backend': 'tensorflow'}}\n",
      "{'data': {'is_drift': 1, 'distance': 0.14908648, 'p_val': 0.01, 'threshold': 0.05, 'distance_threshold': 0.043710828}, 'meta': {'name': 'MMDDriftTF', 'detector_type': 'offline', 'data_type': None, 'backend': 'tensorflow'}}\n",
      "{'data': {'is_drift': 1, 'distance': 0.14204091, 'p_val': 0.01, 'threshold': 0.05, 'distance_threshold': 0.048585355}, 'meta': {'name': 'MMDDriftTF', 'detector_type': 'offline', 'data_type': None, 'backend': 'tensorflow'}}\n",
      "{'data': {'is_drift': 1, 'distance': 0.21182781, 'p_val': 0.0, 'threshold': 0.05, 'distance_threshold': 0.056975007}, 'meta': {'name': 'MMDDriftTF', 'detector_type': 'offline', 'data_type': None, 'backend': 'tensorflow'}}\n",
      "{'data': {'is_drift': 1, 'distance': 0.16653305, 'p_val': 0.0, 'threshold': 0.05, 'distance_threshold': 0.055374563}, 'meta': {'name': 'MMDDriftTF', 'detector_type': 'offline', 'data_type': None, 'backend': 'tensorflow'}}\n",
      "{'data': {'is_drift': 1, 'distance': 0.24000984, 'p_val': 0.0, 'threshold': 0.05, 'distance_threshold': 0.038535297}, 'meta': {'name': 'MMDDriftTF', 'detector_type': 'offline', 'data_type': None, 'backend': 'tensorflow'}}\n"
     ]
    },
    {
     "name": "stdout",
     "output_type": "stream",
     "text": [
      "{'data': {'is_drift': 1, 'distance': 0.1744827, 'p_val': 0.0, 'threshold': 0.05, 'distance_threshold': 0.041653752}, 'meta': {'name': 'MMDDriftTF', 'detector_type': 'offline', 'data_type': None, 'backend': 'tensorflow'}}\n",
      "{'data': {'is_drift': 1, 'distance': 0.13045996, 'p_val': 0.01, 'threshold': 0.05, 'distance_threshold': 0.07071686}, 'meta': {'name': 'MMDDriftTF', 'detector_type': 'offline', 'data_type': None, 'backend': 'tensorflow'}}\n",
      "{'data': {'is_drift': 1, 'distance': 0.083764434, 'p_val': 0.02, 'threshold': 0.05, 'distance_threshold': 0.031184971}, 'meta': {'name': 'MMDDriftTF', 'detector_type': 'offline', 'data_type': None, 'backend': 'tensorflow'}}\n",
      "{'data': {'is_drift': 1, 'distance': 0.07831591, 'p_val': 0.02, 'threshold': 0.05, 'distance_threshold': 0.062262475}, 'meta': {'name': 'MMDDriftTF', 'detector_type': 'offline', 'data_type': None, 'backend': 'tensorflow'}}\n",
      "{'data': {'is_drift': 0, 'distance': 0.04342252, 'p_val': 0.11, 'threshold': 0.05, 'distance_threshold': 0.05145347}, 'meta': {'name': 'MMDDriftTF', 'detector_type': 'offline', 'data_type': None, 'backend': 'tensorflow'}}\n",
      "{'data': {'is_drift': 1, 'distance': 0.07082492, 'p_val': 0.02, 'threshold': 0.05, 'distance_threshold': 0.059810102}, 'meta': {'name': 'MMDDriftTF', 'detector_type': 'offline', 'data_type': None, 'backend': 'tensorflow'}}\n",
      "{'data': {'is_drift': 1, 'distance': 0.10246503, 'p_val': 0.01, 'threshold': 0.05, 'distance_threshold': 0.057035208}, 'meta': {'name': 'MMDDriftTF', 'detector_type': 'offline', 'data_type': None, 'backend': 'tensorflow'}}\n",
      "{'data': {'is_drift': 1, 'distance': 0.21562892, 'p_val': 0.0, 'threshold': 0.05, 'distance_threshold': 0.052554667}, 'meta': {'name': 'MMDDriftTF', 'detector_type': 'offline', 'data_type': None, 'backend': 'tensorflow'}}\n",
      "{'data': {'is_drift': 1, 'distance': 0.15007526, 'p_val': 0.0, 'threshold': 0.05, 'distance_threshold': 0.049403608}, 'meta': {'name': 'MMDDriftTF', 'detector_type': 'offline', 'data_type': None, 'backend': 'tensorflow'}}\n",
      "{'data': {'is_drift': 1, 'distance': 0.20161098, 'p_val': 0.0, 'threshold': 0.05, 'distance_threshold': 0.056982458}, 'meta': {'name': 'MMDDriftTF', 'detector_type': 'offline', 'data_type': None, 'backend': 'tensorflow'}}\n",
      "{'data': {'is_drift': 1, 'distance': 0.208817, 'p_val': 0.0, 'threshold': 0.05, 'distance_threshold': 0.068881035}, 'meta': {'name': 'MMDDriftTF', 'detector_type': 'offline', 'data_type': None, 'backend': 'tensorflow'}}\n",
      "{'data': {'is_drift': 1, 'distance': 0.11013842, 'p_val': 0.0, 'threshold': 0.05, 'distance_threshold': 0.041240036}, 'meta': {'name': 'MMDDriftTF', 'detector_type': 'offline', 'data_type': None, 'backend': 'tensorflow'}}\n",
      "{'data': {'is_drift': 1, 'distance': 0.09035152, 'p_val': 0.0, 'threshold': 0.05, 'distance_threshold': 0.057678103}, 'meta': {'name': 'MMDDriftTF', 'detector_type': 'offline', 'data_type': None, 'backend': 'tensorflow'}}\n",
      "{'data': {'is_drift': 1, 'distance': 0.14786983, 'p_val': 0.0, 'threshold': 0.05, 'distance_threshold': 0.042132378}, 'meta': {'name': 'MMDDriftTF', 'detector_type': 'offline', 'data_type': None, 'backend': 'tensorflow'}}\n",
      "{'data': {'is_drift': 1, 'distance': 0.1459018, 'p_val': 0.0, 'threshold': 0.05, 'distance_threshold': 0.058081806}, 'meta': {'name': 'MMDDriftTF', 'detector_type': 'offline', 'data_type': None, 'backend': 'tensorflow'}}\n",
      "{'data': {'is_drift': 1, 'distance': 0.1005581, 'p_val': 0.01, 'threshold': 0.05, 'distance_threshold': 0.04622096}, 'meta': {'name': 'MMDDriftTF', 'detector_type': 'offline', 'data_type': None, 'backend': 'tensorflow'}}\n",
      "{'data': {'is_drift': 1, 'distance': 0.19776368, 'p_val': 0.0, 'threshold': 0.05, 'distance_threshold': 0.052336514}, 'meta': {'name': 'MMDDriftTF', 'detector_type': 'offline', 'data_type': None, 'backend': 'tensorflow'}}\n",
      "{'data': {'is_drift': 1, 'distance': 0.1614902, 'p_val': 0.0, 'threshold': 0.05, 'distance_threshold': 0.05421698}, 'meta': {'name': 'MMDDriftTF', 'detector_type': 'offline', 'data_type': None, 'backend': 'tensorflow'}}\n",
      "{'data': {'is_drift': 1, 'distance': 0.09573698, 'p_val': 0.02, 'threshold': 0.05, 'distance_threshold': 0.06487703}, 'meta': {'name': 'MMDDriftTF', 'detector_type': 'offline', 'data_type': None, 'backend': 'tensorflow'}}\n",
      "{'data': {'is_drift': 1, 'distance': 0.09383863, 'p_val': 0.02, 'threshold': 0.05, 'distance_threshold': 0.050603867}, 'meta': {'name': 'MMDDriftTF', 'detector_type': 'offline', 'data_type': None, 'backend': 'tensorflow'}}\n",
      "{'data': {'is_drift': 1, 'distance': 0.1445629, 'p_val': 0.0, 'threshold': 0.05, 'distance_threshold': 0.03755349}, 'meta': {'name': 'MMDDriftTF', 'detector_type': 'offline', 'data_type': None, 'backend': 'tensorflow'}}\n",
      "{'data': {'is_drift': 1, 'distance': 0.15465915, 'p_val': 0.0, 'threshold': 0.05, 'distance_threshold': 0.046907127}, 'meta': {'name': 'MMDDriftTF', 'detector_type': 'offline', 'data_type': None, 'backend': 'tensorflow'}}\n",
      "{'data': {'is_drift': 1, 'distance': 0.12274158, 'p_val': 0.01, 'threshold': 0.05, 'distance_threshold': 0.056106985}, 'meta': {'name': 'MMDDriftTF', 'detector_type': 'offline', 'data_type': None, 'backend': 'tensorflow'}}\n",
      "{'data': {'is_drift': 1, 'distance': 0.21045202, 'p_val': 0.01, 'threshold': 0.05, 'distance_threshold': 0.058045447}, 'meta': {'name': 'MMDDriftTF', 'detector_type': 'offline', 'data_type': None, 'backend': 'tensorflow'}}\n",
      "{'data': {'is_drift': 1, 'distance': 0.17040616, 'p_val': 0.0, 'threshold': 0.05, 'distance_threshold': 0.05550295}, 'meta': {'name': 'MMDDriftTF', 'detector_type': 'offline', 'data_type': None, 'backend': 'tensorflow'}}\n",
      "{'data': {'is_drift': 1, 'distance': 0.16089892, 'p_val': 0.0, 'threshold': 0.05, 'distance_threshold': 0.041990936}, 'meta': {'name': 'MMDDriftTF', 'detector_type': 'offline', 'data_type': None, 'backend': 'tensorflow'}}\n"
     ]
    }
   ],
   "source": [
    "for i in range(100):\n",
    "    preds = cd.predict(RBC_outputs[0+i:5+i].reshape(-1, 2048), return_p_val=True, return_distance=True)\n",
    "    print(preds)"
   ]
  },
  {
   "cell_type": "code",
   "execution_count": 56,
   "id": "f3aa9851",
   "metadata": {},
   "outputs": [
    {
     "name": "stdout",
     "output_type": "stream",
     "text": [
      "{'data': {'is_drift': 1, 'distance': 0.31987417, 'p_val': 0.0, 'threshold': 0.05, 'distance_threshold': 0.14597219}, 'meta': {'name': 'MMDDriftTF', 'detector_type': 'offline', 'data_type': None, 'backend': 'tensorflow'}}\n",
      "{'data': {'is_drift': 1, 'distance': 0.32750288, 'p_val': 0.01, 'threshold': 0.05, 'distance_threshold': 0.17890573}, 'meta': {'name': 'MMDDriftTF', 'detector_type': 'offline', 'data_type': None, 'backend': 'tensorflow'}}\n",
      "{'data': {'is_drift': 1, 'distance': 0.31702536, 'p_val': 0.0, 'threshold': 0.05, 'distance_threshold': 0.1046024}, 'meta': {'name': 'MMDDriftTF', 'detector_type': 'offline', 'data_type': None, 'backend': 'tensorflow'}}\n",
      "{'data': {'is_drift': 1, 'distance': 0.35431975, 'p_val': 0.0, 'threshold': 0.05, 'distance_threshold': 0.10811937}, 'meta': {'name': 'MMDDriftTF', 'detector_type': 'offline', 'data_type': None, 'backend': 'tensorflow'}}\n",
      "{'data': {'is_drift': 1, 'distance': 0.32778895, 'p_val': 0.02, 'threshold': 0.05, 'distance_threshold': 0.19599396}, 'meta': {'name': 'MMDDriftTF', 'detector_type': 'offline', 'data_type': None, 'backend': 'tensorflow'}}\n",
      "{'data': {'is_drift': 1, 'distance': 0.3333978, 'p_val': 0.0, 'threshold': 0.05, 'distance_threshold': 0.15521961}, 'meta': {'name': 'MMDDriftTF', 'detector_type': 'offline', 'data_type': None, 'backend': 'tensorflow'}}\n",
      "{'data': {'is_drift': 1, 'distance': 0.34547403, 'p_val': 0.0, 'threshold': 0.05, 'distance_threshold': 0.14581066}, 'meta': {'name': 'MMDDriftTF', 'detector_type': 'offline', 'data_type': None, 'backend': 'tensorflow'}}\n",
      "{'data': {'is_drift': 1, 'distance': 0.33866113, 'p_val': 0.0, 'threshold': 0.05, 'distance_threshold': 0.15590787}, 'meta': {'name': 'MMDDriftTF', 'detector_type': 'offline', 'data_type': None, 'backend': 'tensorflow'}}\n",
      "{'data': {'is_drift': 1, 'distance': 0.5054044, 'p_val': 0.0, 'threshold': 0.05, 'distance_threshold': 0.15487778}, 'meta': {'name': 'MMDDriftTF', 'detector_type': 'offline', 'data_type': None, 'backend': 'tensorflow'}}\n",
      "{'data': {'is_drift': 1, 'distance': 0.323603, 'p_val': 0.0, 'threshold': 0.05, 'distance_threshold': 0.13697001}, 'meta': {'name': 'MMDDriftTF', 'detector_type': 'offline', 'data_type': None, 'backend': 'tensorflow'}}\n"
     ]
    }
   ],
   "source": [
    "for i in range(10):\n",
    "    preds = cd.predict(Artifacts_outputs[0+i:2+i].reshape(-1, 2048), return_p_val=True, return_distance=True)\n",
    "    print(preds)"
   ]
  },
  {
   "cell_type": "code",
   "execution_count": 54,
   "id": "0e476184",
   "metadata": {},
   "outputs": [
    {
     "name": "stdout",
     "output_type": "stream",
     "text": [
      "{'data': {'is_drift': 1, 'distance': 0.39256912, 'p_val': 0.0, 'threshold': 0.05, 'distance_threshold': 0.17203057}, 'meta': {'name': 'MMDDriftTF', 'detector_type': 'offline', 'data_type': None, 'backend': 'tensorflow'}}\n",
      "{'data': {'is_drift': 1, 'distance': 0.3592717, 'p_val': 0.0, 'threshold': 0.05, 'distance_threshold': 0.1458978}, 'meta': {'name': 'MMDDriftTF', 'detector_type': 'offline', 'data_type': None, 'backend': 'tensorflow'}}\n",
      "{'data': {'is_drift': 1, 'distance': 0.42146677, 'p_val': 0.0, 'threshold': 0.05, 'distance_threshold': 0.10140529}, 'meta': {'name': 'MMDDriftTF', 'detector_type': 'offline', 'data_type': None, 'backend': 'tensorflow'}}\n",
      "{'data': {'is_drift': 1, 'distance': 0.29437912, 'p_val': 0.0, 'threshold': 0.05, 'distance_threshold': 0.17900223}, 'meta': {'name': 'MMDDriftTF', 'detector_type': 'offline', 'data_type': None, 'backend': 'tensorflow'}}\n",
      "{'data': {'is_drift': 1, 'distance': 0.2970654, 'p_val': 0.0, 'threshold': 0.05, 'distance_threshold': 0.11013794}, 'meta': {'name': 'MMDDriftTF', 'detector_type': 'offline', 'data_type': None, 'backend': 'tensorflow'}}\n",
      "{'data': {'is_drift': 1, 'distance': 0.31506634, 'p_val': 0.0, 'threshold': 0.05, 'distance_threshold': 0.10311842}, 'meta': {'name': 'MMDDriftTF', 'detector_type': 'offline', 'data_type': None, 'backend': 'tensorflow'}}\n",
      "{'data': {'is_drift': 1, 'distance': 0.31901395, 'p_val': 0.0, 'threshold': 0.05, 'distance_threshold': 0.14573169}, 'meta': {'name': 'MMDDriftTF', 'detector_type': 'offline', 'data_type': None, 'backend': 'tensorflow'}}\n",
      "{'data': {'is_drift': 1, 'distance': 0.31135917, 'p_val': 0.0, 'threshold': 0.05, 'distance_threshold': 0.13758439}, 'meta': {'name': 'MMDDriftTF', 'detector_type': 'offline', 'data_type': None, 'backend': 'tensorflow'}}\n",
      "{'data': {'is_drift': 1, 'distance': 0.47084206, 'p_val': 0.0, 'threshold': 0.05, 'distance_threshold': 0.12392956}, 'meta': {'name': 'MMDDriftTF', 'detector_type': 'offline', 'data_type': None, 'backend': 'tensorflow'}}\n",
      "{'data': {'is_drift': 1, 'distance': 0.46836102, 'p_val': 0.0, 'threshold': 0.05, 'distance_threshold': 0.1193102}, 'meta': {'name': 'MMDDriftTF', 'detector_type': 'offline', 'data_type': None, 'backend': 'tensorflow'}}\n"
     ]
    }
   ],
   "source": [
    "for i in range(10):\n",
    "    preds = cd.predict(Dirt_outputs[0+i:2+i].reshape(-1, 2048), return_p_val=True, return_distance=True)\n",
    "    print(preds)"
   ]
  },
  {
   "cell_type": "code",
   "execution_count": 21,
   "id": "ab4625a1",
   "metadata": {},
   "outputs": [],
   "source": [
    "preds = cd.predict(unclassified_outputs, return_p_val=True, return_distance=True)"
   ]
  },
  {
   "cell_type": "code",
   "execution_count": 22,
   "id": "9a0dda32",
   "metadata": {},
   "outputs": [
    {
     "name": "stdout",
     "output_type": "stream",
     "text": [
      "{'data': {'is_drift': 1, 'distance': 0.044115067, 'p_val': 0.0, 'threshold': 0.05, 'distance_threshold': 0.00010025501}, 'meta': {'name': 'MMDDriftTF', 'detector_type': 'offline', 'data_type': None, 'backend': 'tensorflow'}}\n"
     ]
    }
   ],
   "source": [
    "print(preds)"
   ]
  },
  {
   "cell_type": "code",
   "execution_count": 3,
   "id": "3bbe781e",
   "metadata": {},
   "outputs": [],
   "source": [
    "def test_mmd(cd, imgs_ref, imgs, label):\n",
    "    test_stats = []\n",
    "    labels = []\n",
    "    imgs_array = []\n",
    "    for img in imgs:\n",
    "        pred = cd.predict(x_t=img.reshape(1024))\n",
    "        cd.reset()\n",
    "        test_stats.append(pred['data']['test_stat'])\n",
    "        labels.append(label)\n",
    "        imgs_array.append(img)\n",
    "    d = {\"test_stats\": test_stats, \"labels\": labels, \"imgs_array\": imgs_array}\n",
    "\n",
    "    df = pd.DataFrame(data=d)\n",
    "    return df"
   ]
  },
  {
   "cell_type": "code",
   "execution_count": 4,
   "id": "47c1e8fa",
   "metadata": {},
   "outputs": [],
   "source": [
    "inlier_names = [\"cCry\", \"sCry\", \"uCry\", \"hCast\", \"nhCast\", \"nsEC\", \"sEC\", \"WBC\", \"RBC\", \"Artifact\", \"Dirt\", \"LD\"]\n",
    "testImages_cCry = methods.getTestRawImages(\"cCry\", (32,32))\n",
    "testImages_sCry = methods.getTestRawImages(\"sCry\", (32,32))\n",
    "testImages_uCry = methods.getTestRawImages(\"uCry\", (32,32))\n",
    "testImages_hCast = methods.getTestRawImages(\"hCast\", (32,32))\n",
    "testImages_nhCast = methods.getTestRawImages(\"nhCast\", (32,32))\n",
    "testImages_nsEC = methods.getTestRawImages(\"nsEC\", (32,32))\n",
    "testImages_sEC = methods.getTestRawImages(\"sEC\", (32,32))\n",
    "testImages_WBC = methods.getTestRawImages(\"WBC\", (32,32))\n",
    "testImages_RBC = methods.getTestRawImages(\"RBC\", (32,32))\n",
    "testImages_Artifact = methods.getTestRawImages(\"Artifact\", (32,32))\n",
    "testImages_Dirt = methods.getTestRawImages(\"Dirt\", (32,32))\n",
    "testImages_LD = methods.getTestRawImages(\"LD\", (32,32))\n",
    "testImages_condensation = methods.getTestRawImages(\"condensation\", (32,32))\n",
    "\n",
    "X_inliers = np.concatenate((testImages_cCry, testImages_sCry, testImages_uCry, testImages_hCast, testImages_nhCast, testImages_nsEC,\n",
    "                       testImages_sEC, testImages_WBC, testImages_RBC))\n",
    "unclassified_imgs = methods.getTestRawImages(\"Unclassified\", (32,32))"
   ]
  },
  {
   "cell_type": "code",
   "execution_count": 5,
   "id": "3c39d63d",
   "metadata": {
    "scrolled": false
   },
   "outputs": [
    {
     "name": "stderr",
     "output_type": "stream",
     "text": [
      "  1%|          | 71/10000 [00:00<00:13, 709.44it/s]"
     ]
    },
    {
     "name": "stdout",
     "output_type": "stream",
     "text": [
      "Generating permutations of kernel matrix..\n"
     ]
    },
    {
     "name": "stderr",
     "output_type": "stream",
     "text": [
      "100%|██████████| 10000/10000 [00:13<00:00, 764.11it/s]\n",
      "Computing thresholds: 100%|██████████| 10/10 [00:27<00:00,  2.73s/it]\n"
     ]
    }
   ],
   "source": [
    "# # define preprocessing function\n",
    "# preprocess_fn = partial(preprocess_drift, model=encoder_net, batch_size=32)\n",
    "ERT = 100\n",
    "W = 10\n",
    "# initialise drift detector\n",
    "cd = MMDDriftOnline(x_ref = X_inliers.reshape(-1, 1024), ert=ERT, window_size= W, backend='pytorch', device='cuda', n_bootstraps = 10000)"
   ]
  },
  {
   "cell_type": "code",
   "execution_count": 8,
   "id": "9aa0b7bd",
   "metadata": {},
   "outputs": [],
   "source": [
    "df_unclassified = test_mmd(cd, X_inliers, unclassified_imgs, 0)"
   ]
  },
  {
   "cell_type": "code",
   "execution_count": 9,
   "id": "9cf671e2",
   "metadata": {},
   "outputs": [],
   "source": [
    "sorted_test_stats = df_unclassified.sort_values(by=['test_stats'])"
   ]
  },
  {
   "cell_type": "code",
   "execution_count": 14,
   "id": "53fc0618",
   "metadata": {},
   "outputs": [
    {
     "data": {
      "text/plain": [
       "<AxesSubplot:xlabel='labels', ylabel='test_stats'>"
      ]
     },
     "execution_count": 14,
     "metadata": {},
     "output_type": "execute_result"
    },
    {
     "data": {
      "image/png": "[encoded data removed]",
      "text/plain": [
       "<Figure size 432x288 with 1 Axes>"
      ]
     },
     "metadata": {
      "needs_background": "light"
     },
     "output_type": "display_data"
    }
   ],
   "source": [
    "sns.scatterplot(data=sorted_test_stats, x = \"labels\", y=\"test_stats\")"
   ]
  },
  {
   "cell_type": "code",
   "execution_count": null,
   "id": "5f055e76",
   "metadata": {},
   "outputs": [],
   "source": []
  },
  {
   "cell_type": "code",
   "execution_count": null,
   "id": "f4de94d3",
   "metadata": {},
   "outputs": [],
   "source": []
  },
  {
   "cell_type": "code",
   "execution_count": null,
   "id": "6893992e",
   "metadata": {},
   "outputs": [],
   "source": []
  },
  {
   "cell_type": "code",
   "execution_count": null,
   "id": "93c1d578",
   "metadata": {},
   "outputs": [],
   "source": []
  }
 ],
 "metadata": {
  "kernelspec": {
   "display_name": "alibidetect",
   "language": "python",
   "name": "alibidetect"
  },
  "language_info": {
   "codemirror_mode": {
    "name": "ipython",
    "version": 3
   },
   "file_extension": ".py",
   "mimetype": "text/x-python",
   "name": "python",
   "nbconvert_exporter": "python",
   "pygments_lexer": "ipython3",
   "version": "3.7.10"
  }
 },
 "nbformat": 4,
 "nbformat_minor": 5
}
