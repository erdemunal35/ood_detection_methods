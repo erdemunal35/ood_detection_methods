{
 "cells": [
  {
   "cell_type": "code",
   "execution_count": 6,
   "id": "0d478d80",
   "metadata": {},
   "outputs": [
    {
     "name": "stdout",
     "output_type": "stream",
     "text": [
      "Num GPUs Available:  1\n"
     ]
    }
   ],
   "source": [
    "import tensorflow as tf\n",
    "from functools import partial\n",
    "from tensorflow.keras.layers import Conv2D, Dense, Flatten, InputLayer, Reshape\n",
    "from alibi_detect.cd.tensorflow import preprocess_drift\n",
    "from alibi_detect.cd import KSDrift\n",
    "import numpy as np\n",
    "import methods\n",
    "import matplotlib.pyplot as plt\n",
    "import seaborn as sns\n",
    "import pandas as pd\n",
    "from ood_metrics import calc_metrics, plot_roc, plot_pr, plot_barcode\n",
    "\n",
    "import logging \n",
    "logger = tf.get_logger()\n",
    "logger.setLevel(logging.ERROR)\n",
    "\n",
    "physical_devices = tf.config.list_physical_devices('GPU')\n",
    "print(\"Num GPUs Available: \", len(physical_devices))\n",
    "# Assume that you have 12GB of GPU memory and want to allocate ~4GB:\n",
    "gpu_options = tf.compat.v1.GPUOptions(per_process_gpu_memory_fraction=0.1)\n",
    "\n",
    "sess = tf.compat.v1.Session(config=tf.compat.v1.ConfigProto(gpu_options=gpu_options))"
   ]
  },
  {
   "cell_type": "code",
   "execution_count": 7,
   "id": "a1c97aa9",
   "metadata": {},
   "outputs": [],
   "source": [
    "from torchvision.utils import make_grid\n",
    "from torchvision.io import read_image\n",
    "import torchvision.transforms.functional as F\n",
    "import torch\n",
    "%matplotlib inline\n",
    "def show(imgs):\n",
    "    if not isinstance(imgs, list):\n",
    "        imgs = [imgs]\n",
    "    fix, axs = plt.subplots(ncols=len(imgs), squeeze=False)\n",
    "    for i, img in enumerate(imgs):\n",
    "        img = img.detach()\n",
    "        img = F.to_pil_image(img)\n",
    "        axs[0, i].imshow(np.asarray(img))\n",
    "        axs[0, i].set(xticklabels=[], yticklabels=[], xticks=[], yticks=[])"
   ]
  },
  {
   "cell_type": "code",
   "execution_count": 8,
   "id": "6f5a45f1",
   "metadata": {},
   "outputs": [],
   "source": [
    "inlier_names = [\"cCry\", \"sCry\", \"uCry\", \"hCast\", \"nhCast\", \"nsEC\", \"sEC\", \"WBC\", \"RBC\", \"Artifact\", \"Dirt\", \"LD\"]\n",
    "testImages_cCry = methods.getTestRawImages(\"cCry\", (32,32))\n",
    "testImages_sCry = methods.getTestRawImages(\"sCry\", (32,32))\n",
    "testImages_uCry = methods.getTestRawImages(\"uCry\", (32,32))\n",
    "testImages_hCast = methods.getTestRawImages(\"hCast\", (32,32))\n",
    "testImages_nhCast = methods.getTestRawImages(\"nhCast\", (32,32))\n",
    "testImages_nsEC = methods.getTestRawImages(\"nsEC\", (32,32))\n",
    "testImages_sEC = methods.getTestRawImages(\"sEC\", (32,32))\n",
    "testImages_WBC = methods.getTestRawImages(\"WBC\", (32,32))\n",
    "testImages_RBC = methods.getTestRawImages(\"RBC\", (32,32))\n",
    "testImages_Artifact = methods.getTestRawImages(\"Artifact\", (32,32))\n",
    "testImages_Dirt = methods.getTestRawImages(\"Dirt\", (32,32))\n",
    "testImages_LD = methods.getTestRawImages(\"LD\", (32,32))\n",
    "\n",
    "X_inliers = np.concatenate((testImages_cCry, testImages_sCry, testImages_uCry, testImages_hCast, testImages_nhCast, testImages_nsEC,\n",
    "                       testImages_sEC, testImages_WBC, testImages_RBC))\n",
    "unclassified_imgs = methods.getTestRawImages(\"Unclassified\", (32,32))"
   ]
  },
  {
   "cell_type": "code",
   "execution_count": 20,
   "id": "50162a0b",
   "metadata": {},
   "outputs": [],
   "source": [
    "def test_ksd(cd, imgs_ref, imgs, outlier_imgs, label):\n",
    "    p_vals = []\n",
    "    distances = []\n",
    "    labels = []\n",
    "    imgs_array = []\n",
    "    for img in imgs:\n",
    "        p_val, dist = cd.feature_score(x_ref=imgs_ref, x=img.reshape(-1,32))\n",
    "        p_vals.append(np.mean(p_val))\n",
    "        distances.append(np.mean(dist))\n",
    "        labels.append(label)\n",
    "    d = {\"p_vals\": p_vals, \"distances\": distances, \"labels\": labels, \"imgs_array\": outlier_imgs.tolist()}\n",
    "\n",
    "    df = pd.DataFrame(data=d)\n",
    "    return df"
   ]
  },
  {
   "cell_type": "code",
   "execution_count": 10,
   "id": "500efd71",
   "metadata": {},
   "outputs": [
    {
     "data": {
      "text/plain": [
       "(200, 30)"
      ]
     },
     "execution_count": 10,
     "metadata": {},
     "output_type": "execute_result"
    }
   ],
   "source": [
    "from sklearn.datasets import make_friedman1\n",
    "from sklearn.decomposition import SparsePCA\n",
    "X, _ = make_friedman1(n_samples=200, n_features=30, random_state=0)\n",
    "X.shape\n"
   ]
  },
  {
   "cell_type": "code",
   "execution_count": 11,
   "id": "e93c27db",
   "metadata": {},
   "outputs": [],
   "source": [
    "X_inliers_reshaped = X_inliers.reshape(-1, 32*32)\n",
    "unclassified_imgs_reshaped = unclassified_imgs.reshape(-1, 32*32)"
   ]
  },
  {
   "cell_type": "code",
   "execution_count": 12,
   "id": "33ca83b7",
   "metadata": {},
   "outputs": [
    {
     "data": {
      "text/plain": [
       "(7965, 32)"
      ]
     },
     "execution_count": 12,
     "metadata": {},
     "output_type": "execute_result"
    }
   ],
   "source": [
    "transformer = SparsePCA(n_components=32, random_state=0)\n",
    "transformer.fit(X_inliers_reshaped)\n",
    "X_inliers_transformed = transformer.transform(X_inliers_reshaped)\n",
    "X_inliers_transformed.shape"
   ]
  },
  {
   "cell_type": "code",
   "execution_count": 13,
   "id": "280c511d",
   "metadata": {},
   "outputs": [
    {
     "data": {
      "text/plain": [
       "(1975, 32)"
      ]
     },
     "execution_count": 13,
     "metadata": {},
     "output_type": "execute_result"
    }
   ],
   "source": [
    "transformer = SparsePCA(n_components=32, random_state=0)\n",
    "transformer.fit(unclassified_imgs_reshaped)\n",
    "unclassified_imgs_transformed = transformer.transform(unclassified_imgs_reshaped)\n",
    "unclassified_imgs_transformed.shape"
   ]
  },
  {
   "cell_type": "code",
   "execution_count": 14,
   "id": "38c5be97",
   "metadata": {},
   "outputs": [
    {
     "data": {
      "text/plain": [
       "SparsePCA(n_components=32, random_state=0)"
      ]
     },
     "execution_count": 14,
     "metadata": {},
     "output_type": "execute_result"
    }
   ],
   "source": [
    "transformer = SparsePCA(n_components=32, random_state=0)\n",
    "transformer.fit(X)"
   ]
  },
  {
   "cell_type": "code",
   "execution_count": 5,
   "id": "e44986b6",
   "metadata": {},
   "outputs": [
    {
     "data": {
      "text/plain": [
       "(200, 5)"
      ]
     },
     "execution_count": 5,
     "metadata": {},
     "output_type": "execute_result"
    }
   ],
   "source": [
    "X_transformed = transformer.transform(X)\n",
    "X_transformed.shape"
   ]
  },
  {
   "cell_type": "code",
   "execution_count": 16,
   "id": "2f878a3c",
   "metadata": {},
   "outputs": [],
   "source": [
    "# initialise drift detector\n",
    "p_val = .05\n",
    "cd = KSDrift(X_inliers_transformed, p_val=p_val, correction = 'fdr', preprocess_x_ref=False)"
   ]
  },
  {
   "cell_type": "code",
   "execution_count": 21,
   "id": "9fdfe4b8",
   "metadata": {},
   "outputs": [],
   "source": [
    "df_unclassified = test_ksd(cd, X_inliers_transformed, unclassified_imgs_transformed, unclassified_imgs, 0)"
   ]
  },
  {
   "cell_type": "code",
   "execution_count": 22,
   "id": "cc570fc8",
   "metadata": {},
   "outputs": [],
   "source": [
    "sorted_p_vals = df_unclassified.sort_values(by=['p_vals'])"
   ]
  },
  {
   "cell_type": "code",
   "execution_count": 25,
   "id": "4c4bfadd",
   "metadata": {},
   "outputs": [
    {
     "data": {
      "text/plain": [
       "<AxesSubplot:xlabel='labels', ylabel='p_vals'>"
      ]
     },
     "execution_count": 25,
     "metadata": {},
     "output_type": "execute_result"
    },
    {
     "data": {
      "image/png": "[encoded data removed]",
      "text/plain": [
       "<Figure size 432x288 with 1 Axes>"
      ]
     },
     "metadata": {
      "needs_background": "light"
     },
     "output_type": "display_data"
    }
   ],
   "source": [
    "sns.scatterplot(data=sorted_p_vals, x = \"labels\", y=\"p_vals\")"
   ]
  },
  {
   "cell_type": "code",
   "execution_count": null,
   "id": "a9a26ced",
   "metadata": {},
   "outputs": [],
   "source": []
  }
 ],
 "metadata": {
  "kernelspec": {
   "display_name": "alibidetect",
   "language": "python",
   "name": "alibidetect"
  },
  "language_info": {
   "codemirror_mode": {
    "name": "ipython",
    "version": 3
   },
   "file_extension": ".py",
   "mimetype": "text/x-python",
   "name": "python",
   "nbconvert_exporter": "python",
   "pygments_lexer": "ipython3",
   "version": "3.7.10"
  }
 },
 "nbformat": 4,
 "nbformat_minor": 5
}
