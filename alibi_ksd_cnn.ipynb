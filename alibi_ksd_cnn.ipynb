{
 "cells": [
  {
   "cell_type": "code",
   "execution_count": 1,
   "id": "b7be2b57",
   "metadata": {},
   "outputs": [
    {
     "name": "stdout",
     "output_type": "stream",
     "text": [
      "Num GPUs Available:  1\n"
     ]
    }
   ],
   "source": [
    "import tensorflow as tf\n",
    "from functools import partial\n",
    "from tensorflow.keras.layers import Conv2D, Dense, Flatten, InputLayer, Reshape\n",
    "from alibi_detect.cd.tensorflow import preprocess_drift\n",
    "from alibi_detect.cd import KSDrift\n",
    "import numpy as np\n",
    "import methods\n",
    "import matplotlib.pyplot as plt\n",
    "import seaborn as sns\n",
    "import pandas as pd\n",
    "from ood_metrics import calc_metrics, plot_roc, plot_pr, plot_barcode\n",
    "\n",
    "import logging \n",
    "logger = tf.get_logger()\n",
    "logger.setLevel(logging.ERROR)\n",
    "\n",
    "physical_devices = tf.config.list_physical_devices('GPU')\n",
    "print(\"Num GPUs Available: \", len(physical_devices))\n",
    "# Assume that you have 12GB of GPU memory and want to allocate ~4GB:\n",
    "gpu_options = tf.compat.v1.GPUOptions(per_process_gpu_memory_fraction=0.1)\n",
    "\n",
    "sess = tf.compat.v1.Session(config=tf.compat.v1.ConfigProto(gpu_options=gpu_options))"
   ]
  },
  {
   "cell_type": "code",
   "execution_count": 2,
   "id": "e881fb90",
   "metadata": {},
   "outputs": [],
   "source": [
    "from torchvision.utils import make_grid\n",
    "from torchvision.io import read_image\n",
    "import torchvision.transforms.functional as F\n",
    "import torch\n",
    "%matplotlib inline\n",
    "def show(imgs):\n",
    "    if not isinstance(imgs, list):\n",
    "        imgs = [imgs]\n",
    "    fix, axs = plt.subplots(ncols=len(imgs), squeeze=False)\n",
    "    for i, img in enumerate(imgs):\n",
    "        img = img.detach()\n",
    "        img = F.to_pil_image(img)\n",
    "        axs[0, i].imshow(np.asarray(img))\n",
    "        axs[0, i].set(xticklabels=[], yticklabels=[], xticks=[], yticks=[])"
   ]
  },
  {
   "cell_type": "code",
   "execution_count": 3,
   "id": "44f86387",
   "metadata": {},
   "outputs": [
    {
     "data": {
      "text/plain": [
       "Sequential(\n",
       "  (conv10): Sequential(\n",
       "    (0): Conv2d(1, 32, kernel_size=(3, 3), stride=(2, 2), padding=(1, 1), bias=False)\n",
       "    (1): BatchNorm2d(32, eps=1e-05, momentum=0.1, affine=True, track_running_stats=True)\n",
       "    (2): ReLU()\n",
       "  )\n",
       "  (conv20): Sequential(\n",
       "    (0): Conv2d(32, 32, kernel_size=(3, 3), stride=(1, 1), padding=(1, 1), groups=32, bias=False)\n",
       "    (1): Conv2d(32, 32, kernel_size=(1, 1), stride=(1, 1), bias=False)\n",
       "    (2): BatchNorm2d(32, eps=1e-05, momentum=0.1, affine=True, track_running_stats=True)\n",
       "    (3): ReLU()\n",
       "  )\n",
       "  (conv11): Sequential(\n",
       "    (0): Conv2d(32, 32, kernel_size=(3, 3), stride=(2, 2), padding=(1, 1), groups=32, bias=False)\n",
       "    (1): Conv2d(32, 64, kernel_size=(1, 1), stride=(1, 1), bias=False)\n",
       "    (2): BatchNorm2d(64, eps=1e-05, momentum=0.1, affine=True, track_running_stats=True)\n",
       "    (3): ReLU()\n",
       "  )\n",
       "  (conv21): Sequential(\n",
       "    (0): Conv2d(64, 64, kernel_size=(3, 3), stride=(1, 1), padding=(1, 1), groups=64, bias=False)\n",
       "    (1): Conv2d(64, 64, kernel_size=(1, 1), stride=(1, 1), bias=False)\n",
       "    (2): BatchNorm2d(64, eps=1e-05, momentum=0.1, affine=True, track_running_stats=True)\n",
       "    (3): ReLU()\n",
       "  )\n",
       "  (conv12): Sequential(\n",
       "    (0): Conv2d(64, 64, kernel_size=(3, 3), stride=(2, 2), padding=(1, 1), groups=64, bias=False)\n",
       "    (1): Conv2d(64, 128, kernel_size=(1, 1), stride=(1, 1), bias=False)\n",
       "    (2): BatchNorm2d(128, eps=1e-05, momentum=0.1, affine=True, track_running_stats=True)\n",
       "    (3): ReLU()\n",
       "  )\n",
       "  (conv22): Sequential(\n",
       "    (0): Conv2d(128, 128, kernel_size=(3, 3), stride=(1, 1), padding=(1, 1), groups=128, bias=False)\n",
       "    (1): Conv2d(128, 128, kernel_size=(1, 1), stride=(1, 1), bias=False)\n",
       "    (2): BatchNorm2d(128, eps=1e-05, momentum=0.1, affine=True, track_running_stats=True)\n",
       "    (3): ReLU()\n",
       "  )\n",
       "  (drop): Dropout(p=0.2, inplace=False)\n",
       "  (flatten): Flatten(start_dim=1, end_dim=-1)\n",
       "  (final): Linear(in_features=2048, out_features=9, bias=True)\n",
       ")"
      ]
     },
     "execution_count": 3,
     "metadata": {},
     "output_type": "execute_result"
    }
   ],
   "source": [
    "from collections import OrderedDict\n",
    "\n",
    "import numpy as np\n",
    "import torch as th\n",
    "from torch import nn\n",
    "import seaborn as sns\n",
    "from pathlib import Path\n",
    "import matplotlib.pyplot as plt\n",
    "import cv2 \n",
    "\n",
    "import math\n",
    "from scipy.spatial import distance as mahal_distance\n",
    "\n",
    "from skimage.util import random_noise\n",
    "classes = np.array(['uCry', 'sCry', 'cCry', 'hCast', 'nhCast', 'sEC', 'nsEC', 'WBC', 'RBC'])\n",
    "outlier_classes1 = np.array(['Artifact', 'Dirt', 'LD'])\n",
    "outlier_classes2 = np.array(['blankurine', 'bubbles', 'cathair', 'condensation', 'dust', 'feces', 'fingerprint', 'humanhair',\n",
    "                            'Lipids', 'Lotion', 'pollen', 'semifilled', 'void', 'wetslide', 'yeast'])\n",
    "# Loading the pre-trained classifier\n",
    "\n",
    "def conv_bn_relu(\n",
    "        in_channels, out_channels,\n",
    "        kernel_size=3, padding=None, stride=1,\n",
    "        depthwise=False, normalization=True,\n",
    "        activation=True, init_bn_zero=False):\n",
    "    \"\"\"\n",
    "    Make a depthwise or normal convolution layer, \n",
    "    followed by batch normalization and an activation.\n",
    "    \"\"\"\n",
    "    layers = []\n",
    "    padding = kernel_size // 2 if padding is None else padding\n",
    "\n",
    "    if depthwise and in_channels > 1:\n",
    "        layers += [\n",
    "            nn.Conv2d(in_channels, in_channels, bias=False,\n",
    "                      kernel_size=kernel_size, stride=stride,\n",
    "                      padding=padding, groups=in_channels),\n",
    "            nn.Conv2d(in_channels, out_channels, \n",
    "                      bias=not normalization, kernel_size=1)\n",
    "        ]\n",
    "    else:\n",
    "        layers.append(\n",
    "            nn.Conv2d(in_channels, out_channels, bias=not normalization,\n",
    "                      kernel_size=kernel_size, stride=stride,\n",
    "                      padding=padding)\n",
    "        )\n",
    "    if normalization:\n",
    "        bn = nn.BatchNorm2d(out_channels)\n",
    "        if init_bn_zero:\n",
    "            nn.init.zeros_(bn.weight)\n",
    "        layers.append(bn)\n",
    "    if activation:\n",
    "        # TODO: parametrize activation\n",
    "        layers.append(nn.ReLU())\n",
    "    return nn.Sequential(*layers)\n",
    "\n",
    "def depthwise_cnn_classifier(\n",
    "    channels=[],\n",
    "    strides=None,\n",
    "    img_width=32,\n",
    "    img_height=32,\n",
    "    c_in=None,\n",
    "    c_out=None,\n",
    "):\n",
    "    channels = channels[:]\n",
    "    if c_in is not None:\n",
    "        channels.insert(0, c_in)\n",
    "    if c_out is not None:\n",
    "        channels.append(c_out)\n",
    "\n",
    "    if len(channels) < 2:\n",
    "        raise ValueError(\"Not enough channels\")\n",
    "\n",
    "    layers = OrderedDict()\n",
    "    number_convolutions = len(channels) - 2\n",
    "\n",
    "    if strides is None:\n",
    "        strides = [2] * number_convolutions\n",
    "\n",
    "    out_width = img_width\n",
    "    out_height = img_height\n",
    "\n",
    "    for layer_index in range(number_convolutions):\n",
    "        in_channels = channels[layer_index]\n",
    "        out_channels = channels[layer_index + 1]\n",
    "        layers[\"conv1\" + str(layer_index)] = conv_bn_relu(\n",
    "            in_channels,\n",
    "            out_channels,\n",
    "            kernel_size=3,\n",
    "            stride=strides[layer_index],\n",
    "            depthwise=layer_index > 0,\n",
    "            normalization=True,\n",
    "            activation=True,\n",
    "        )\n",
    "        layers[\"conv2\" + str(layer_index)] = conv_bn_relu(\n",
    "            out_channels,\n",
    "            out_channels,\n",
    "            kernel_size=3,\n",
    "            stride=1,\n",
    "            depthwise=True,\n",
    "            normalization=True,\n",
    "            activation=True,\n",
    "        )\n",
    "\n",
    "        out_width = out_width // strides[layer_index]\n",
    "        out_height = out_height // strides[layer_index]\n",
    "\n",
    "    layers[\"drop\"] = nn.Dropout(p=0.2)\n",
    "    layers[\"flatten\"] = nn.Flatten()\n",
    "    layers[\"final\"] = nn.Linear(out_width * out_height * channels[-2], channels[-1])\n",
    "    #layers[\"softmax\"] = nn.Softmax(-1)\n",
    "\n",
    "    return nn.Sequential(layers)\n",
    "\n",
    "\n",
    "\n",
    "# load model\n",
    "cnn = depthwise_cnn_classifier([32, 64, 128], c_in=1, c_out=9, img_width=32, img_height=32)\n",
    "cnn.load_state_dict(th.load(\"/home/erdem/pickle/thomas_classifier/urine_classifier_uniform_32x32.pt\"))\n",
    "cnn.eval()  # IMPORTANT\n",
    "cnn"
   ]
  },
  {
   "cell_type": "code",
   "execution_count": 4,
   "id": "c46922e9",
   "metadata": {},
   "outputs": [],
   "source": [
    "from copy import deepcopy\n",
    "cnn_flattened = deepcopy(cnn)\n",
    "del cnn_flattened[-1] # remove linear"
   ]
  },
  {
   "cell_type": "code",
   "execution_count": 5,
   "id": "316df9e3",
   "metadata": {},
   "outputs": [],
   "source": [
    "inlier_names = [\"cCry\", \"sCry\", \"uCry\", \"hCast\", \"nhCast\", \"nsEC\", \"sEC\", \"WBC\", \"RBC\", \"Artifact\", \"Dirt\", \"LD\"]\n",
    "testImages_cCry = methods.getTestRawImages(\"cCry\", (32,32))\n",
    "testImages_sCry = methods.getTestRawImages(\"sCry\", (32,32))\n",
    "testImages_uCry = methods.getTestRawImages(\"uCry\", (32,32))\n",
    "testImages_hCast = methods.getTestRawImages(\"hCast\", (32,32))\n",
    "testImages_nhCast = methods.getTestRawImages(\"nhCast\", (32,32))\n",
    "testImages_nsEC = methods.getTestRawImages(\"nsEC\", (32,32))\n",
    "testImages_sEC = methods.getTestRawImages(\"sEC\", (32,32))\n",
    "testImages_WBC = methods.getTestRawImages(\"WBC\", (32,32))\n",
    "testImages_RBC = methods.getTestRawImages(\"RBC\", (32,32))\n",
    "testImages_Artifact = methods.getTestRawImages(\"Artifact\", (32,32))\n",
    "testImages_Dirt = methods.getTestRawImages(\"Dirt\", (32,32))\n",
    "testImages_LD = methods.getTestRawImages(\"LD\", (32,32))\n",
    "\n",
    "X_inliers = np.concatenate((testImages_cCry, testImages_sCry, testImages_uCry, testImages_hCast, testImages_nhCast, testImages_nsEC,\n",
    "                       testImages_sEC, testImages_WBC, testImages_RBC))\n",
    "unclassified_imgs = methods.getTestRawImages(\"Unclassified\", (32,32))"
   ]
  },
  {
   "cell_type": "code",
   "execution_count": 6,
   "id": "a45fb06a",
   "metadata": {},
   "outputs": [],
   "source": [
    "def getPermuteOutputs(f, X):\n",
    "    outputs = []\n",
    "    for x in X:\n",
    "        outputs.append(f(th.from_numpy(x.reshape(1,1,32,32)) - 1).detach().view(-1).numpy())   \n",
    "    return np.asarray(outputs).reshape(-1, 2048)"
   ]
  },
  {
   "cell_type": "code",
   "execution_count": 23,
   "id": "a005938e",
   "metadata": {},
   "outputs": [],
   "source": [
    "def test_ksd(cd, imgs_ref, imgs, outlier_imgs, label):\n",
    "    p_vals = []\n",
    "    distances = []\n",
    "    labels = []\n",
    "    imgs_array = []\n",
    "    for img in imgs:\n",
    "        p_val, dist = cd.feature_score(x_ref=imgs_ref, x=img.reshape(-1,9))\n",
    "        p_vals.append(np.mean(p_val))\n",
    "        distances.append(np.mean(dist))\n",
    "        labels.append(label)\n",
    "    d = {\"p_vals\": p_vals, \"distances\": distances, \"labels\": labels, \"imgs_array\": outlier_imgs.tolist()}\n",
    "\n",
    "    df = pd.DataFrame(data=d)\n",
    "    return df\n",
    "def test_ksd_final(cd, f, imgs_ref, perturb = None, y_limit = None):\n",
    "    inlier_scores = []\n",
    "    inlier_labels = []\n",
    "    outlier_scores = []\n",
    "    outlier_labels = []\n",
    "    inlier_path = \"/home/erdem/dataset/urine_test_32/inliers\"\n",
    "    outlier_path = \"/home/erdem/dataset/urine_test_32/outliers\"\n",
    "    # Inliers\n",
    "    for img_path in Path(inlier_path).glob(\"*.png\"):\n",
    "        inlier_labels.append(0)\n",
    "        image = plt.imread(img_path)\n",
    "        if perturb == 'gaussian':\n",
    "            image = th.tensor(random_noise(image, mode='gaussian', mean=0, var=0.01, clip=True)).float()\n",
    "        elif perturb == 's&p':\n",
    "            image = th.tensor(random_noise(image, mode='s&p', salt_vs_pepper=0.5, amount=0.03, clip=True))\n",
    "        output = f(th.from_numpy(image.reshape(1,1,32,32)) - 1).detach().view(-1).numpy()\n",
    "        _, dist = cd.feature_score(x_ref=imgs_ref, x=output.reshape(1, 2048))\n",
    "        temp_score = np.amax(np.mean(dist))\n",
    "        inlier_scores.append(temp_score)\n",
    "    \n",
    "    # Outliers\n",
    "    for img_path in Path(outlier_path).glob(\"*.png\"):\n",
    "        outlier_labels.append(1)\n",
    "        image = plt.imread(img_path)\n",
    "        if perturb == 'gaussian':\n",
    "            image = th.tensor(random_noise(image, mode='gaussian', mean=0, var=0.01, clip=True)).float()\n",
    "        elif perturb == 's&p':\n",
    "            image = th.tensor(random_noise(image, mode='s&p', salt_vs_pepper=0.5, amount=0.03, clip=True))\n",
    "        output = f(th.from_numpy(image.reshape(1,1,32,32)) - 1).detach().view(-1).numpy()\n",
    "        _, dist = cd.feature_score(x_ref=imgs_ref, x=output.reshape(1, 2048))\n",
    "        temp_score = np.amax(np.mean(dist))\n",
    "        outlier_scores.append(temp_score)\n",
    "    \n",
    "    d_outliers = {\"K-S Distance\": outlier_scores, \"outlier_labels\": outlier_labels, \"Index of Image Patches\": np.linspace(1, 636, num=636)}\n",
    "    d_inliers = {\"K-S Distance\": inlier_scores, \"inlier_labels\": inlier_labels, \"Index of Image Patches\": np.linspace(1, 636, num=636)}\n",
    "    df1 = pd.DataFrame(data=d_inliers)\n",
    "    df2 = pd.DataFrame(data=d_outliers)\n",
    "    g = sns.scatterplot(data=df1, x=\"Index of Image Patches\", y=\"K-S Distance\")\n",
    "    g = sns.scatterplot(data=df2, x=\"Index of Image Patches\", y=\"K-S Distance\")\n",
    "    g.set(ylim=(0, y_limit))\n",
    "    score_array = inlier_scores+outlier_scores\n",
    "    label_array = inlier_labels+outlier_labels\n",
    "\n",
    "    print(calc_metrics(score_array, label_array))\n",
    "\n",
    "    plot_roc(score_array, label_array)\n",
    "    plot_pr(score_array, label_array)\n",
    "#     plot_barcode(score_array, label_array)"
   ]
  },
  {
   "cell_type": "code",
   "execution_count": 9,
   "id": "8fe15fc7",
   "metadata": {},
   "outputs": [],
   "source": [
    "inlier_outputs = getPermuteOutputs(cnn_flattened, X_inliers)"
   ]
  },
  {
   "cell_type": "code",
   "execution_count": 10,
   "id": "65dc1419",
   "metadata": {},
   "outputs": [
    {
     "data": {
      "text/plain": [
       "(7965, 2048)"
      ]
     },
     "execution_count": 10,
     "metadata": {},
     "output_type": "execute_result"
    }
   ],
   "source": [
    "inlier_outputs.shape"
   ]
  },
  {
   "cell_type": "code",
   "execution_count": 11,
   "id": "78613ce9",
   "metadata": {
    "scrolled": true
   },
   "outputs": [],
   "source": [
    "unclassified_outputs = getPermuteOutputs(cnn_flattened, unclassified_imgs)"
   ]
  },
  {
   "cell_type": "code",
   "execution_count": 12,
   "id": "c5d8b9c6",
   "metadata": {},
   "outputs": [
    {
     "data": {
      "text/plain": [
       "(1975, 2048)"
      ]
     },
     "execution_count": 12,
     "metadata": {},
     "output_type": "execute_result"
    }
   ],
   "source": [
    "unclassified_outputs.shape"
   ]
  },
  {
   "cell_type": "code",
   "execution_count": 1,
   "id": "9a7fe996",
   "metadata": {},
   "outputs": [
    {
     "ename": "NameError",
     "evalue": "name 'MMDDrift' is not defined",
     "output_type": "error",
     "traceback": [
      "\u001b[0;31m---------------------------------------------------------------------------\u001b[0m",
      "\u001b[0;31mNameError\u001b[0m                                 Traceback (most recent call last)",
      "\u001b[0;32m<ipython-input-1-621033dbeded>\u001b[0m in \u001b[0;36m<module>\u001b[0;34m\u001b[0m\n\u001b[0;32m----> 1\u001b[0;31m \u001b[0mcd\u001b[0m \u001b[0;34m=\u001b[0m \u001b[0mMMDDrift\u001b[0m\u001b[0;34m(\u001b[0m\u001b[0minlier_outputs\u001b[0m\u001b[0;34m,\u001b[0m \u001b[0mbackend\u001b[0m\u001b[0;34m=\u001b[0m\u001b[0;34m'tensorflow'\u001b[0m\u001b[0;34m,\u001b[0m \u001b[0mp_val\u001b[0m\u001b[0;34m=\u001b[0m\u001b[0;36m.05\u001b[0m\u001b[0;34m,\u001b[0m \u001b[0mpreprocess_x_ref\u001b[0m\u001b[0;34m=\u001b[0m\u001b[0;32mFalse\u001b[0m\u001b[0;34m,\u001b[0m \u001b[0mn_permutations\u001b[0m\u001b[0;34m=\u001b[0m\u001b[0;36m100\u001b[0m\u001b[0;34m)\u001b[0m\u001b[0;34m\u001b[0m\u001b[0;34m\u001b[0m\u001b[0m\n\u001b[0m",
      "\u001b[0;31mNameError\u001b[0m: name 'MMDDrift' is not defined"
     ]
    }
   ],
   "source": [
    "cd = KSDrift(inlier_outputs, p_val=.05, correction = 'fdr', preprocess_x_ref=False)"
   ]
  },
  {
   "cell_type": "code",
   "execution_count": 24,
   "id": "a7917851",
   "metadata": {},
   "outputs": [
    {
     "name": "stdout",
     "output_type": "stream",
     "text": [
      "{'fpr_at_95_tpr': 0.7531446540880503, 'detection_error': 0.39937106918238996, 'auroc': 0.7234224813100748, 'aupr_out': 0.7209666817587475, 'aupr_in': 0.7351175244628316}\n"
     ]
    },
    {
     "data": {
      "image/png": "[encoded data removed]",
      "text/plain": [
       "<Figure size 432x288 with 1 Axes>"
      ]
     },
     "metadata": {
      "needs_background": "light"
     },
     "output_type": "display_data"
    },
    {
     "data": {
      "image/png": "[encoded data removed]",
      "text/plain": [
       "<Figure size 432x288 with 1 Axes>"
      ]
     },
     "metadata": {
      "needs_background": "light"
     },
     "output_type": "display_data"
    },
    {
     "data": {
      "image/png": "[encoded data removed]",
      "text/plain": [
       "<Figure size 432x288 with 1 Axes>"
      ]
     },
     "metadata": {
      "needs_background": "light"
     },
     "output_type": "display_data"
    }
   ],
   "source": [
    "test_ksd_final(cd, cnn_flattened, inlier_outputs, perturb = None, y_limit = None)"
   ]
  },
  {
   "cell_type": "code",
   "execution_count": 26,
   "id": "edabe23d",
   "metadata": {},
   "outputs": [
    {
     "data": {
      "text/plain": [
       "<AxesSubplot:xlabel='outlier_labels', ylabel='outlier_scores'>"
      ]
     },
     "execution_count": 26,
     "metadata": {},
     "output_type": "execute_result"
    },
    {
     "data": {
      "image/png": "[encoded data removed]",
      "text/plain": [
       "<Figure size 432x288 with 1 Axes>"
      ]
     },
     "metadata": {
      "needs_background": "light"
     },
     "output_type": "display_data"
    }
   ],
   "source": [
    "cl_path = \"/home/thomas/tmp/patches_urine_32_scaled/Unclassified\"\n",
    "perturb = None\n",
    "outlier_labels = []\n",
    "outlier_scores = []\n",
    "outlier_path = []\n",
    "cl = \"Unclassified\"  \n",
    "for img_path in Path(cl_path).glob(\"*.png\"):\n",
    "    outlier_path.append(img_path)\n",
    "    outlier_labels.append(cl)\n",
    "    image = plt.imread(img_path)\n",
    "    if perturb == 'gaussian':\n",
    "        image = th.tensor(random_noise(image, mode='gaussian', mean=0, var=0.01, clip=True)).float()\n",
    "    elif perturb == 's&p':\n",
    "        image = th.tensor(random_noise(image, mode='s&p', salt_vs_pepper=0.5, clip=True))\n",
    "    output = cnn_flattened(th.from_numpy(image.reshape(1,1,32,32)) - 1).detach().view(-1).numpy()\n",
    "    _, dist = cd.feature_score(x_ref=inlier_outputs, x=output.reshape(1, 2048))\n",
    "    temp_score = np.amax(np.mean(dist))\n",
    "    outlier_scores.append(temp_score)\n",
    "    \n",
    "d = {\"outlier_scores\": outlier_scores, \"outlier_labels\": outlier_labels, \"outlier_path\": outlier_path}\n",
    "\n",
    "df3 = pd.DataFrame(data=d)\n",
    "sns.scatterplot(data=df3, x = \"outlier_labels\", y=\"outlier_scores\")"
   ]
  },
  {
   "cell_type": "code",
   "execution_count": 27,
   "id": "f2d0a54c",
   "metadata": {},
   "outputs": [],
   "source": [
    "sorted_unclassified = df3.sort_values(by=['outlier_scores'])\n",
    "from torchvision.utils import make_grid\n",
    "from torchvision.io import read_image\n",
    "import torchvision.transforms.functional as F\n",
    "%matplotlib inline\n",
    "def show(imgs):\n",
    "    if not isinstance(imgs, list):\n",
    "        imgs = [imgs]\n",
    "    fix, axs = plt.subplots(ncols=len(imgs), squeeze=False)\n",
    "    for i, img in enumerate(imgs):\n",
    "        img = img.detach()\n",
    "        img = F.to_pil_image(img)\n",
    "        axs[0, i].imshow(np.asarray(img))\n",
    "        axs[0, i].set(xticklabels=[], yticklabels=[], xticks=[], yticks=[])\n",
    "unclassified_imgs = []\n",
    "for path in sorted_unclassified[\"outlier_path\"]:\n",
    "    unclassified_imgs.append(read_image(str(path)))"
   ]
  },
  {
   "cell_type": "code",
   "execution_count": null,
   "id": "164e47e1",
   "metadata": {},
   "outputs": [],
   "source": []
  },
  {
   "cell_type": "code",
   "execution_count": null,
   "id": "c67d9436",
   "metadata": {},
   "outputs": [],
   "source": []
  },
  {
   "cell_type": "code",
   "execution_count": null,
   "id": "c810e70b",
   "metadata": {},
   "outputs": [],
   "source": []
  },
  {
   "cell_type": "code",
   "execution_count": null,
   "id": "77e2d801",
   "metadata": {},
   "outputs": [],
   "source": []
  },
  {
   "cell_type": "code",
   "execution_count": 71,
   "id": "5514be3b",
   "metadata": {},
   "outputs": [
    {
     "data": {
      "text/plain": [
       "9"
      ]
     },
     "execution_count": 71,
     "metadata": {},
     "output_type": "execute_result"
    }
   ],
   "source": [
    "cd.n_features"
   ]
  },
  {
   "cell_type": "code",
   "execution_count": 74,
   "id": "18fc8bec",
   "metadata": {},
   "outputs": [],
   "source": [
    "df_unclassified = test_ksd(cd, inlier_outputs, unclassified_outputs, unclassified_imgs, 0)"
   ]
  },
  {
   "cell_type": "code",
   "execution_count": 75,
   "id": "f9fc71ef",
   "metadata": {},
   "outputs": [],
   "source": [
    "sorted_p_vals = df_unclassified.sort_values(by=['p_vals'])"
   ]
  },
  {
   "cell_type": "code",
   "execution_count": 83,
   "id": "acb1aec0",
   "metadata": {},
   "outputs": [
    {
     "data": {
      "text/plain": [
       "<AxesSubplot:xlabel='labels', ylabel='p_vals'>"
      ]
     },
     "execution_count": 83,
     "metadata": {},
     "output_type": "execute_result"
    },
    {
     "data": {
      "image/png": "[encoded data removed]",
      "text/plain": [
       "<Figure size 432x288 with 1 Axes>"
      ]
     },
     "metadata": {
      "needs_background": "light"
     },
     "output_type": "display_data"
    }
   ],
   "source": [
    "sns.scatterplot(data=sorted_p_vals, x = \"labels\", y=\"p_vals\")"
   ]
  },
  {
   "cell_type": "code",
   "execution_count": null,
   "id": "ddcedc67",
   "metadata": {},
   "outputs": [],
   "source": []
  }
 ],
 "metadata": {
  "kernelspec": {
   "display_name": "alibidetect",
   "language": "python",
   "name": "alibidetect"
  },
  "language_info": {
   "codemirror_mode": {
    "name": "ipython",
    "version": 3
   },
   "file_extension": ".py",
   "mimetype": "text/x-python",
   "name": "python",
   "nbconvert_exporter": "python",
   "pygments_lexer": "ipython3",
   "version": "3.7.10"
  }
 },
 "nbformat": 4,
 "nbformat_minor": 5
}
