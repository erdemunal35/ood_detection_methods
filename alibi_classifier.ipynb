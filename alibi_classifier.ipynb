{
 "cells": [
  {
   "cell_type": "code",
   "execution_count": 1,
   "id": "94ae6690",
   "metadata": {
    "scrolled": false
   },
   "outputs": [
    {
     "name": "stdout",
     "output_type": "stream",
     "text": [
      "Num GPUs Available:  1\n"
     ]
    }
   ],
   "source": [
    "import tensorflow as tf\n",
    "from tensorflow.keras.layers import Conv2D, Dense, Flatten, Input\n",
    "from alibi_detect.cd import ClassifierDrift\n",
    "import numpy as np\n",
    "import methods\n",
    "\n",
    "\n",
    "import logging \n",
    "logger = tf.get_logger()\n",
    "logger.setLevel(logging.ERROR)\n",
    "\n",
    "physical_devices = tf.config.list_physical_devices('GPU')\n",
    "print(\"Num GPUs Available: \", len(physical_devices))\n",
    "# Assume that you have 12GB of GPU memory and want to allocate ~4GB:\n",
    "gpu_options = tf.compat.v1.GPUOptions(per_process_gpu_memory_fraction=0.05)\n",
    "\n",
    "sess = tf.compat.v1.Session(config=tf.compat.v1.ConfigProto(gpu_options=gpu_options))"
   ]
  },
  {
   "cell_type": "code",
   "execution_count": 2,
   "id": "447f7c99",
   "metadata": {},
   "outputs": [],
   "source": [
    "inlier_names = [\"cCry\", \"sCry\", \"uCry\", \"hCast\", \"nhCast\", \"nsEC\", \"sEC\", \"WBC\", \"RBC\", \"Artifact\", \"Dirt\", \"LD\"]\n",
    "testImages_cCry = methods.getTestRawImages(\"cCry\", (32,32))\n",
    "testImages_sCry = methods.getTestRawImages(\"sCry\", (32,32))\n",
    "testImages_uCry = methods.getTestRawImages(\"uCry\", (32,32))\n",
    "testImages_hCast = methods.getTestRawImages(\"hCast\", (32,32))\n",
    "testImages_nhCast = methods.getTestRawImages(\"nhCast\", (32,32))\n",
    "testImages_nsEC = methods.getTestRawImages(\"nsEC\", (32,32))\n",
    "testImages_sEC = methods.getTestRawImages(\"sEC\", (32,32))\n",
    "testImages_WBC = methods.getTestRawImages(\"WBC\", (32,32))\n",
    "testImages_RBC = methods.getTestRawImages(\"RBC\", (32,32))\n",
    "testImages_Artifact = methods.getTestRawImages(\"Artifact\", (32,32))\n",
    "testImages_Dirt = methods.getTestRawImages(\"Dirt\", (32,32))\n",
    "testImages_LD = methods.getTestRawImages(\"LD\", (32,32))\n",
    "\n",
    "X_inliers = np.concatenate((testImages_cCry, testImages_sCry, testImages_uCry, testImages_hCast, testImages_nhCast, testImages_nsEC,\n",
    "                       testImages_sEC, testImages_WBC, testImages_RBC))\n",
    "unclassified_imgs = methods.getTestRawImages(\"Unclassified\", (32,32))"
   ]
  },
  {
   "cell_type": "code",
   "execution_count": 3,
   "id": "57133b3c",
   "metadata": {},
   "outputs": [
    {
     "name": "stdout",
     "output_type": "stream",
     "text": [
      "Model: \"sequential\"\n",
      "_________________________________________________________________\n",
      "Layer (type)                 Output Shape              Param #   \n",
      "=================================================================\n",
      "conv2d (Conv2D)              (None, 16, 16, 8)         136       \n",
      "_________________________________________________________________\n",
      "conv2d_1 (Conv2D)            (None, 8, 8, 16)          2064      \n",
      "_________________________________________________________________\n",
      "conv2d_2 (Conv2D)            (None, 4, 4, 32)          8224      \n",
      "_________________________________________________________________\n",
      "flatten (Flatten)            (None, 512)               0         \n",
      "_________________________________________________________________\n",
      "dense (Dense)                (None, 2)                 1026      \n",
      "=================================================================\n",
      "Total params: 11,450\n",
      "Trainable params: 11,450\n",
      "Non-trainable params: 0\n",
      "_________________________________________________________________\n"
     ]
    }
   ],
   "source": [
    "model = tf.keras.Sequential(\n",
    "  [\n",
    "      Input(shape=(32, 32, 1)),\n",
    "      Conv2D(8, 4, strides=2, padding='same', activation=tf.nn.relu),\n",
    "      Conv2D(16, 4, strides=2, padding='same', activation=tf.nn.relu),\n",
    "      Conv2D(32, 4, strides=2, padding='same', activation=tf.nn.relu),\n",
    "      Flatten(),\n",
    "      Dense(2, activation='softmax')\n",
    "  ]\n",
    ")\n",
    "model.summary()"
   ]
  },
  {
   "cell_type": "code",
   "execution_count": 4,
   "id": "6c74594f",
   "metadata": {},
   "outputs": [],
   "source": [
    "cd = ClassifierDrift(X_inliers, model, p_val=.05, preds_type='probs', learning_rate=1e-3, epochs=5)"
   ]
  },
  {
   "cell_type": "code",
   "execution_count": 5,
   "id": "99ed70a3",
   "metadata": {},
   "outputs": [
    {
     "name": "stdout",
     "output_type": "stream",
     "text": [
      "{'data': {'is_drift': 0, 'distance': 0.4039136979427998, 'p_val': 0.5962888665997994, 'threshold': 0.05}, 'meta': {'name': 'ClassifierDriftTF', 'detector_type': 'offline', 'data_type': None, 'params': {'binarize_preds ': False, 'preds_type': 'probs'}, 'backend': 'tensorflow'}}\n"
     ]
    }
   ],
   "source": [
    "wbc_preds = cd.predict(testImages_WBC[:10], return_p_val = True, return_distance = True)\n",
    "print(wbc_preds)"
   ]
  },
  {
   "cell_type": "code",
   "execution_count": 6,
   "id": "60457992",
   "metadata": {
    "scrolled": true
   },
   "outputs": [
    {
     "name": "stdout",
     "output_type": "stream",
     "text": [
      "{'data': {'is_drift': 0, 'distance': 0.04568273092369478, 'p_val': 0.9522793166252395, 'threshold': 0.05}, 'meta': {'name': 'ClassifierDriftTF', 'detector_type': 'offline', 'data_type': None, 'params': {'binarize_preds ': False, 'preds_type': 'probs'}, 'backend': 'tensorflow'}}\n"
     ]
    }
   ],
   "source": [
    "rbc_preds = cd.predict(testImages_RBC[:10], return_p_val = True, return_distance = True)\n",
    "print(rbc_preds)"
   ]
  },
  {
   "cell_type": "code",
   "execution_count": 7,
   "id": "411845ec",
   "metadata": {},
   "outputs": [
    {
     "name": "stdout",
     "output_type": "stream",
     "text": [
      "{'data': {'is_drift': 0, 'distance': 0.464859437751004, 'p_val': 0.31983758601444073, 'threshold': 0.05}, 'meta': {'name': 'ClassifierDriftTF', 'detector_type': 'offline', 'data_type': None, 'params': {'binarize_preds ': False, 'preds_type': 'probs'}, 'backend': 'tensorflow'}}\n"
     ]
    }
   ],
   "source": [
    "artifact_preds = cd.predict(testImages_Artifact[:10], return_p_val = True, return_distance = True)\n",
    "print(artifact_preds)"
   ]
  },
  {
   "cell_type": "code",
   "execution_count": 8,
   "id": "1be3898a",
   "metadata": {},
   "outputs": [
    {
     "name": "stdout",
     "output_type": "stream",
     "text": [
      "{'data': {'is_drift': 0, 'distance': 0.5301507537688442, 'p_val': 0.0716629076521975, 'threshold': 0.05}, 'meta': {'name': 'ClassifierDriftTF', 'detector_type': 'offline', 'data_type': None, 'params': {'binarize_preds ': False, 'preds_type': 'probs'}, 'backend': 'tensorflow'}}\n"
     ]
    }
   ],
   "source": [
    "dirt_preds = cd.predict(testImages_Dirt[:50], return_p_val = True, return_distance = True)\n",
    "print(dirt_preds)"
   ]
  },
  {
   "cell_type": "code",
   "execution_count": null,
   "id": "35987fc7",
   "metadata": {},
   "outputs": [],
   "source": []
  },
  {
   "cell_type": "code",
   "execution_count": null,
   "id": "e64741e3",
   "metadata": {},
   "outputs": [],
   "source": []
  }
 ],
 "metadata": {
  "kernelspec": {
   "display_name": "alibidetect",
   "language": "python",
   "name": "alibidetect"
  },
  "language_info": {
   "codemirror_mode": {
    "name": "ipython",
    "version": 3
   },
   "file_extension": ".py",
   "mimetype": "text/x-python",
   "name": "python",
   "nbconvert_exporter": "python",
   "pygments_lexer": "ipython3",
   "version": "3.7.10"
  }
 },
 "nbformat": 4,
 "nbformat_minor": 5
}
