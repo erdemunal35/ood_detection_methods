{
 "cells": [
  {
   "cell_type": "code",
   "execution_count": 1,
   "id": "9fcc3b1c",
   "metadata": {},
   "outputs": [
    {
     "name": "stdout",
     "output_type": "stream",
     "text": [
      "Num GPUs Available:  1\n"
     ]
    }
   ],
   "source": [
    "import tensorflow as tf\n",
    "from functools import partial\n",
    "from tensorflow.keras.layers import Conv2D, Dense, Flatten, InputLayer, Reshape\n",
    "from alibi_detect.cd.tensorflow import preprocess_drift\n",
    "from alibi_detect.cd import MMDDriftOnline\n",
    "import numpy as np\n",
    "import methods\n",
    "import matplotlib.pyplot as plt\n",
    "import seaborn as sns\n",
    "import pandas as pd\n",
    "from ood_metrics import calc_metrics, plot_roc, plot_pr, plot_barcode\n",
    "\n",
    "import logging \n",
    "logger = tf.get_logger()\n",
    "logger.setLevel(logging.ERROR)\n",
    "\n",
    "physical_devices = tf.config.list_physical_devices('GPU')\n",
    "print(\"Num GPUs Available: \", len(physical_devices))\n",
    "# Assume that you have 12GB of GPU memory and want to allocate ~4GB:\n",
    "gpu_options = tf.compat.v1.GPUOptions(per_process_gpu_memory_fraction=0.1)\n",
    "\n",
    "sess = tf.compat.v1.Session(config=tf.compat.v1.ConfigProto(gpu_options=gpu_options))"
   ]
  },
  {
   "cell_type": "code",
   "execution_count": 2,
   "id": "152fb780",
   "metadata": {},
   "outputs": [],
   "source": [
    "from torchvision.utils import make_grid\n",
    "from torchvision.io import read_image\n",
    "import torchvision.transforms.functional as F\n",
    "import torch\n",
    "import torch.nn as nn\n",
    "from torch.utils.data import TensorDataset, DataLoader\n",
    "from torchsummary import summary\n",
    "\n",
    "%matplotlib inline\n",
    "device = torch.device('cuda' if torch.cuda.is_available() else 'cpu')\n",
    "def show(imgs):\n",
    "    if not isinstance(imgs, list):\n",
    "        imgs = [imgs]\n",
    "    fix, axs = plt.subplots(ncols=len(imgs), squeeze=False)\n",
    "    for i, img in enumerate(imgs):\n",
    "        img = img.detach()\n",
    "        img = F.to_pil_image(img)\n",
    "        axs[0, i].imshow(np.asarray(img))\n",
    "        axs[0, i].set(xticklabels=[], yticklabels=[], xticks=[], yticks=[])"
   ]
  },
  {
   "cell_type": "code",
   "execution_count": 3,
   "id": "6b39e9ec",
   "metadata": {},
   "outputs": [],
   "source": [
    "def test_mmd(cd, imgs_ref, imgs, label):\n",
    "    test_stats = []\n",
    "    labels = []\n",
    "    imgs_array = []\n",
    "    for img in imgs:\n",
    "        pred = cd.predict(x_t=img)\n",
    "        cd.reset()\n",
    "        test_stats.append(pred['data']['test_stat'])\n",
    "        labels.append(label)\n",
    "        imgs_array.append(img)\n",
    "    d = {\"test_stats\": test_stats, \"labels\": labels, \"imgs_array\": imgs_array}\n",
    "\n",
    "    df = pd.DataFrame(data=d)\n",
    "    return df"
   ]
  },
  {
   "cell_type": "code",
   "execution_count": 4,
   "id": "59764408",
   "metadata": {},
   "outputs": [],
   "source": [
    "inlier_names = [\"cCry\", \"sCry\", \"uCry\", \"hCast\", \"nhCast\", \"nsEC\", \"sEC\", \"WBC\", \"RBC\", \"Artifact\", \"Dirt\", \"LD\"]\n",
    "testImages_cCry = methods.getTestRawImages(\"cCry\", (32,32))\n",
    "testImages_sCry = methods.getTestRawImages(\"sCry\", (32,32))\n",
    "testImages_uCry = methods.getTestRawImages(\"uCry\", (32,32))\n",
    "testImages_hCast = methods.getTestRawImages(\"hCast\", (32,32))\n",
    "testImages_nhCast = methods.getTestRawImages(\"nhCast\", (32,32))\n",
    "testImages_nsEC = methods.getTestRawImages(\"nsEC\", (32,32))\n",
    "testImages_sEC = methods.getTestRawImages(\"sEC\", (32,32))\n",
    "testImages_WBC = methods.getTestRawImages(\"WBC\", (32,32))\n",
    "testImages_RBC = methods.getTestRawImages(\"RBC\", (32,32))\n",
    "testImages_Artifact = methods.getTestRawImages(\"Artifact\", (32,32))\n",
    "testImages_Dirt = methods.getTestRawImages(\"Dirt\", (32,32))\n",
    "testImages_LD = methods.getTestRawImages(\"LD\", (32,32))\n",
    "testImages_condensation = methods.getTestRawImages(\"condensation\", (32,32))\n",
    "\n",
    "X_inliers = np.concatenate((testImages_cCry, testImages_sCry, testImages_uCry, testImages_hCast, testImages_nhCast, testImages_nsEC,\n",
    "                       testImages_sEC, testImages_WBC, testImages_RBC))\n",
    "unclassified_imgs = methods.getTestRawImages(\"Unclassified\", (32,32))"
   ]
  },
  {
   "cell_type": "code",
   "execution_count": 5,
   "id": "841ae7cb",
   "metadata": {
    "scrolled": true
   },
   "outputs": [
    {
     "name": "stdout",
     "output_type": "stream",
     "text": [
      "Model: \"sequential\"\n",
      "_________________________________________________________________\n",
      "Layer (type)                 Output Shape              Param #   \n",
      "=================================================================\n",
      "conv2d (Conv2D)              (None, 16, 16, 64)        640       \n",
      "_________________________________________________________________\n",
      "conv2d_1 (Conv2D)            (None, 8, 8, 128)         73856     \n",
      "_________________________________________________________________\n",
      "conv2d_2 (Conv2D)            (None, 4, 4, 512)         590336    \n",
      "_________________________________________________________________\n",
      "flatten (Flatten)            (None, 8192)              0         \n",
      "_________________________________________________________________\n",
      "dense (Dense)                (None, 256)               2097408   \n",
      "=================================================================\n",
      "Total params: 2,762,240\n",
      "Trainable params: 2,762,240\n",
      "Non-trainable params: 0\n",
      "_________________________________________________________________\n"
     ]
    },
    {
     "name": "stderr",
     "output_type": "stream",
     "text": [
      "  1%|          | 63/10000 [00:00<00:15, 627.50it/s]"
     ]
    },
    {
     "name": "stdout",
     "output_type": "stream",
     "text": [
      "Generating permutations of kernel matrix..\n"
     ]
    },
    {
     "name": "stderr",
     "output_type": "stream",
     "text": [
      "100%|██████████| 10000/10000 [00:15<00:00, 652.98it/s]\n",
      "Computing thresholds: 100%|██████████| 20/20 [03:54<00:00, 11.71s/it]\n"
     ]
    }
   ],
   "source": [
    "encoding_dim = 256\n",
    "encoder_net = tf.keras.Sequential(\n",
    "  [\n",
    "      InputLayer(input_shape=(32, 32, 1)),\n",
    "      Conv2D(64, 3, strides=2, padding='same', activation=tf.nn.relu),\n",
    "      Conv2D(128, 3, strides=2, padding='same', activation=tf.nn.relu),\n",
    "      Conv2D(512, 3, strides=2, padding='same', activation=tf.nn.relu),\n",
    "      Flatten(),\n",
    "      Dense(encoding_dim,)\n",
    "  ]\n",
    ")\n",
    "encoder_net.summary()\n",
    "# define preprocessing function\n",
    "preprocess_fn = partial(preprocess_drift, model=encoder_net, batch_size=64)\n",
    "\n",
    "# initialise drift detector\n",
    "ERT = 100  # expected run-time in absence of change\n",
    "W = 20  # size of test window\n",
    "cd = MMDDriftOnline(X_inliers, ERT, W, backend='tensorflow', preprocess_fn=preprocess_fn, n_bootstraps = 10000)"
   ]
  },
  {
   "cell_type": "code",
   "execution_count": 6,
   "id": "f81c9358",
   "metadata": {},
   "outputs": [],
   "source": [
    "df_unclassified = test_mmd(cd, X_inliers, unclassified_imgs, 0)"
   ]
  },
  {
   "cell_type": "code",
   "execution_count": 7,
   "id": "61b843d8",
   "metadata": {},
   "outputs": [],
   "source": [
    "sorted_test_stats = df_unclassified.sort_values(by=['test_stats'])"
   ]
  },
  {
   "cell_type": "code",
   "execution_count": 10,
   "id": "b6f3464f",
   "metadata": {},
   "outputs": [
    {
     "data": {
      "text/plain": [
       "<AxesSubplot:xlabel='labels', ylabel='test_stats'>"
      ]
     },
     "execution_count": 10,
     "metadata": {},
     "output_type": "execute_result"
    },
    {
     "data": {
      "image/png": "[encoded data removed]",
      "text/plain": [
       "<Figure size 432x288 with 1 Axes>"
      ]
     },
     "metadata": {
      "needs_background": "light"
     },
     "output_type": "display_data"
    }
   ],
   "source": [
    "sns.scatterplot(data=sorted_test_stats, x = \"labels\", y=\"test_stats\")"
   ]
  },
  {
   "cell_type": "code",
   "execution_count": null,
   "id": "6c832f3c",
   "metadata": {},
   "outputs": [],
   "source": []
  },
  {
   "cell_type": "code",
   "execution_count": null,
   "id": "698ef4d9",
   "metadata": {},
   "outputs": [],
   "source": []
  },
  {
   "cell_type": "code",
   "execution_count": null,
   "id": "3b07334b",
   "metadata": {},
   "outputs": [],
   "source": []
  }
 ],
 "metadata": {
  "kernelspec": {
   "display_name": "alibidetect",
   "language": "python",
   "name": "alibidetect"
  },
  "language_info": {
   "codemirror_mode": {
    "name": "ipython",
    "version": 3
   },
   "file_extension": ".py",
   "mimetype": "text/x-python",
   "name": "python",
   "nbconvert_exporter": "python",
   "pygments_lexer": "ipython3",
   "version": "3.7.10"
  }
 },
 "nbformat": 4,
 "nbformat_minor": 5
}
